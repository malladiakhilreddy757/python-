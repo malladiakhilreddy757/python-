{
 "cells": [
  {
   "cell_type": "markdown",
   "id": "a5f2579e",
   "metadata": {},
   "source": [
    "# Lambda Functions\n",
    "   A lambda function is a small anonymous function.\n",
    "   \n",
    "   A lambda function can take any number of arguments, but can only have one expression.\n",
    "   \n",
    "   They are mostly used along with map and filter functions\n"
   ]
  },
  {
   "cell_type": "code",
   "execution_count": null,
   "id": "8d1ea0ef",
   "metadata": {},
   "outputs": [],
   "source": [
    "# Syntax\n",
    "# lambda arguments : expression"
   ]
  },
  {
   "cell_type": "markdown",
   "id": "aceb4814",
   "metadata": {},
   "source": [
    "# Ex1) Squaring a number"
   ]
  },
  {
   "cell_type": "code",
   "execution_count": 2,
   "id": "99ee3d3e",
   "metadata": {},
   "outputs": [
    {
     "data": {
      "text/plain": [
       "81"
      ]
     },
     "execution_count": 2,
     "metadata": {},
     "output_type": "execute_result"
    }
   ],
   "source": [
    "# with one argument\n",
    "\n",
    "# normal function\n",
    "def square(num):\n",
    "    return num**2\n",
    "\n",
    "square(9)"
   ]
  },
  {
   "cell_type": "code",
   "execution_count": 3,
   "id": "e95d84f9",
   "metadata": {},
   "outputs": [],
   "source": [
    "# lambda function \n",
    "square = lambda num : num**2"
   ]
  },
  {
   "cell_type": "code",
   "execution_count": 4,
   "id": "b816e00c",
   "metadata": {},
   "outputs": [
    {
     "data": {
      "text/plain": [
       "81"
      ]
     },
     "execution_count": 4,
     "metadata": {},
     "output_type": "execute_result"
    }
   ],
   "source": [
    "square(9)"
   ]
  },
  {
   "cell_type": "markdown",
   "id": "7ab2a9f4",
   "metadata": {},
   "source": [
    "# Ex2) adding multiple numbers"
   ]
  },
  {
   "cell_type": "code",
   "execution_count": 9,
   "id": "713df6b3",
   "metadata": {},
   "outputs": [
    {
     "data": {
      "text/plain": [
       "60"
      ]
     },
     "execution_count": 9,
     "metadata": {},
     "output_type": "execute_result"
    }
   ],
   "source": [
    "# with multiple arguments\n",
    "# normal function\n",
    "def add(x,y,z):\n",
    "    return x + y + z\n",
    "add(10,20,30)"
   ]
  },
  {
   "cell_type": "code",
   "execution_count": 7,
   "id": "b63f6845",
   "metadata": {},
   "outputs": [],
   "source": [
    "# lambda function\n",
    "add = lambda x, y, z : x + y + z "
   ]
  },
  {
   "cell_type": "code",
   "execution_count": 8,
   "id": "d1be44c5",
   "metadata": {},
   "outputs": [
    {
     "data": {
      "text/plain": [
       "60"
      ]
     },
     "execution_count": 8,
     "metadata": {},
     "output_type": "execute_result"
    }
   ],
   "source": [
    "add(10,20,30)"
   ]
  },
  {
   "cell_type": "markdown",
   "id": "8f5c6216",
   "metadata": {},
   "source": [
    "#### we wont use lambda functions like this. We will mostly use them along with map,filter functions"
   ]
  },
  {
   "cell_type": "markdown",
   "id": "b1708832",
   "metadata": {},
   "source": [
    "# Map function\n",
    " . The map function allows you to \"map\" a function to an iterable object.\n",
    " . It returns map object"
   ]
  },
  {
   "cell_type": "code",
   "execution_count": null,
   "id": "8c8ab385",
   "metadata": {},
   "outputs": [],
   "source": [
    "\"\"\"\n",
    "about map function\n",
    "\n",
    "syntax ---->\n",
    "map(function,sequence)\n",
    "\n",
    "it applies the function to all the elements in the sequences \n",
    "\n",
    "returns the map object\n",
    "\"\"\""
   ]
  },
  {
   "cell_type": "markdown",
   "id": "6d479eda",
   "metadata": {},
   "source": [
    "# Ex1) Square all the elements of a list using map function"
   ]
  },
  {
   "cell_type": "code",
   "execution_count": 10,
   "id": "ac7160a2",
   "metadata": {},
   "outputs": [],
   "source": [
    "# sequence\n",
    "my_nums = [1,2,3,4,5]"
   ]
  },
  {
   "cell_type": "code",
   "execution_count": 11,
   "id": "5cfa0ad2",
   "metadata": {},
   "outputs": [],
   "source": [
    "def square(num):\n",
    "    return num**2"
   ]
  },
  {
   "cell_type": "code",
   "execution_count": 12,
   "id": "a0274197",
   "metadata": {},
   "outputs": [
    {
     "data": {
      "text/plain": [
       "<map at 0x1e10dca0790>"
      ]
     },
     "execution_count": 12,
     "metadata": {},
     "output_type": "execute_result"
    }
   ],
   "source": [
    "map(square,my_nums)"
   ]
  },
  {
   "cell_type": "code",
   "execution_count": 13,
   "id": "3bd52008",
   "metadata": {},
   "outputs": [
    {
     "name": "stdout",
     "output_type": "stream",
     "text": [
      "1\n",
      "4\n",
      "9\n",
      "16\n",
      "25\n"
     ]
    }
   ],
   "source": [
    "# To get the results, either iterate through mapobj \n",
    "for item in map(square,my_nums):\n",
    "    print(item)"
   ]
  },
  {
   "cell_type": "code",
   "execution_count": 14,
   "id": "8912ad3a",
   "metadata": {},
   "outputs": [
    {
     "data": {
      "text/plain": [
       "[1, 4, 9, 16, 25]"
      ]
     },
     "execution_count": 14,
     "metadata": {},
     "output_type": "execute_result"
    }
   ],
   "source": [
    "# or just convert to a list\n",
    "list(map(square,my_nums))"
   ]
  },
  {
   "cell_type": "markdown",
   "id": "4b7065d3",
   "metadata": {},
   "source": [
    "# Ex2) even or odd numbers"
   ]
  },
  {
   "cell_type": "code",
   "execution_count": 15,
   "id": "5d3d0d1b",
   "metadata": {},
   "outputs": [],
   "source": [
    "#sequence\n",
    "my_nums = [1,2,3,4,5]"
   ]
  },
  {
   "cell_type": "code",
   "execution_count": 16,
   "id": "602c9c51",
   "metadata": {},
   "outputs": [],
   "source": [
    "#function\n",
    "def even_odd(num):\n",
    "    if(num%2==0):\n",
    "        return 'even'\n",
    "    else:\n",
    "        return 'odd'"
   ]
  },
  {
   "cell_type": "code",
   "execution_count": 17,
   "id": "0924ca48",
   "metadata": {},
   "outputs": [
    {
     "data": {
      "text/plain": [
       "['odd', 'even', 'odd', 'even', 'odd']"
      ]
     },
     "execution_count": 17,
     "metadata": {},
     "output_type": "execute_result"
    }
   ],
   "source": [
    "list(map(even_odd,my_nums))  #['odd','even','odd','even','odd']"
   ]
  },
  {
   "cell_type": "markdown",
   "id": "838d5c53",
   "metadata": {},
   "source": [
    "# Filter function\n",
    "#### The filter function allows you to filter the elements based on the condition given in the function.\n",
    "#### returns an filter object"
   ]
  },
  {
   "cell_type": "code",
   "execution_count": null,
   "id": "0d7565d2",
   "metadata": {},
   "outputs": [],
   "source": [
    "\"\"\"\n",
    "about filter function\n",
    "\n",
    "syntax ---->\n",
    "filter(function,sequence)\n",
    "\n",
    "it applies the function to all the elements in the sequences and \n",
    "retains only those elements which passes the specific conditions\n",
    "\n",
    "returns the filter object\n",
    "\"\"\""
   ]
  },
  {
   "cell_type": "markdown",
   "id": "7d6b80bc",
   "metadata": {},
   "source": [
    "# Ex1) To filter the words starting with 'a'"
   ]
  },
  {
   "cell_type": "code",
   "execution_count": 18,
   "id": "90c88e55",
   "metadata": {},
   "outputs": [],
   "source": [
    "#Sequence\n",
    "words_list = ['apple','banana','airport','ant','cat']"
   ]
  },
  {
   "cell_type": "code",
   "execution_count": 19,
   "id": "322a7d46",
   "metadata": {},
   "outputs": [],
   "source": [
    "# function\n",
    "def starts_with_a(word):\n",
    "    if(word[0] == 'a'):\n",
    "        return True\n",
    "    else:\n",
    "        return False"
   ]
  },
  {
   "cell_type": "code",
   "execution_count": 20,
   "id": "5044a9c0",
   "metadata": {},
   "outputs": [
    {
     "data": {
      "text/plain": [
       "<filter at 0x1e10dca0eb0>"
      ]
     },
     "execution_count": 20,
     "metadata": {},
     "output_type": "execute_result"
    }
   ],
   "source": [
    "filter(starts_with_a, words_list)"
   ]
  },
  {
   "cell_type": "code",
   "execution_count": 23,
   "id": "d8d61ea6",
   "metadata": {},
   "outputs": [
    {
     "data": {
      "text/plain": [
       "['apple', 'airport', 'ant']"
      ]
     },
     "execution_count": 23,
     "metadata": {},
     "output_type": "execute_result"
    }
   ],
   "source": [
    "list(filter(starts_with_a, words_list))"
   ]
  },
  {
   "cell_type": "markdown",
   "id": "44d06468",
   "metadata": {},
   "source": [
    "# Ex2) To filter only the even numbers"
   ]
  },
  {
   "cell_type": "code",
   "execution_count": 25,
   "id": "7888493d",
   "metadata": {},
   "outputs": [],
   "source": [
    "# Sequence\n",
    "nums = [0,1,2,3,4,5,6,7,8,9,10]\n"
   ]
  },
  {
   "cell_type": "code",
   "execution_count": 26,
   "id": "ae87bfc6",
   "metadata": {},
   "outputs": [],
   "source": [
    "#function\n",
    "def check_even(num):\n",
    "    if(num%2==0):\n",
    "        return True\n",
    "    else:\n",
    "        return False\n",
    "    \n",
    "# def check_even(num):\n",
    "#     return num%2 == 0"
   ]
  },
  {
   "cell_type": "code",
   "execution_count": 27,
   "id": "c4d542bd",
   "metadata": {},
   "outputs": [
    {
     "data": {
      "text/plain": [
       "[0, 2, 4, 6, 8, 10]"
      ]
     },
     "execution_count": 27,
     "metadata": {},
     "output_type": "execute_result"
    }
   ],
   "source": [
    "list(filter(check_even,nums))"
   ]
  },
  {
   "cell_type": "markdown",
   "id": "581d8adb",
   "metadata": {},
   "source": [
    "#### Note : the difference between filter and map"
   ]
  },
  {
   "cell_type": "code",
   "execution_count": 28,
   "id": "b3e2f6d0",
   "metadata": {},
   "outputs": [
    {
     "data": {
      "text/plain": [
       "[True, False, True, False, True, False, True, False, True, False, True]"
      ]
     },
     "execution_count": 28,
     "metadata": {},
     "output_type": "execute_result"
    }
   ],
   "source": [
    "# map\n",
    "list(map(check_even,nums))"
   ]
  },
  {
   "cell_type": "code",
   "execution_count": 29,
   "id": "dfa96b62",
   "metadata": {},
   "outputs": [
    {
     "data": {
      "text/plain": [
       "[0, 2, 4, 6, 8, 10]"
      ]
     },
     "execution_count": 29,
     "metadata": {},
     "output_type": "execute_result"
    }
   ],
   "source": [
    "# filter\n",
    "list(filter(check_even,nums))"
   ]
  },
  {
   "cell_type": "markdown",
   "id": "cbf13b21",
   "metadata": {},
   "source": [
    "# Using map() and filter() with lambda functions\n",
    "\n",
    "# Ex1) Square Ex"
   ]
  },
  {
   "cell_type": "code",
   "execution_count": 30,
   "id": "9c143738",
   "metadata": {},
   "outputs": [
    {
     "data": {
      "text/plain": [
       "[1, 4, 9, 16, 25]"
      ]
     },
     "execution_count": 30,
     "metadata": {},
     "output_type": "execute_result"
    }
   ],
   "source": [
    "# sequence\n",
    "my_nums = [1,2,3,4,5]\n",
    "\n",
    "# lambda with map function\n",
    "list(map(lambda num:num**2,my_nums))"
   ]
  },
  {
   "cell_type": "code",
   "execution_count": 31,
   "id": "03f54a59",
   "metadata": {},
   "outputs": [
    {
     "data": {
      "text/plain": [
       "<filter at 0x1e10dca03a0>"
      ]
     },
     "execution_count": 31,
     "metadata": {},
     "output_type": "execute_result"
    }
   ],
   "source": [
    "nums = [0,1,2,3,4,5,6,7,8,9,10]\n",
    "\n",
    "# filter with map function\n",
    "filter(lambda num:num%2 == 0,nums)"
   ]
  },
  {
   "cell_type": "code",
   "execution_count": 32,
   "id": "c2290810",
   "metadata": {},
   "outputs": [
    {
     "name": "stdout",
     "output_type": "stream",
     "text": [
      "0\n",
      "2\n",
      "4\n",
      "6\n",
      "8\n",
      "10\n"
     ]
    }
   ],
   "source": [
    "for item in filter(lambda num:num%2 == 0,nums):\n",
    "    print(item)\n"
   ]
  },
  {
   "cell_type": "code",
   "execution_count": null,
   "id": "a090dcd0",
   "metadata": {},
   "outputs": [],
   "source": []
  }
 ],
 "metadata": {
  "kernelspec": {
   "display_name": "Python 3 (ipykernel)",
   "language": "python",
   "name": "python3"
  },
  "language_info": {
   "codemirror_mode": {
    "name": "ipython",
    "version": 3
   },
   "file_extension": ".py",
   "mimetype": "text/x-python",
   "name": "python",
   "nbconvert_exporter": "python",
   "pygments_lexer": "ipython3",
   "version": "3.9.7"
  }
 },
 "nbformat": 4,
 "nbformat_minor": 5
}
