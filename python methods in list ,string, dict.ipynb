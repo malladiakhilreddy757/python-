{
 "cells": [
  {
   "cell_type": "markdown",
   "id": "3a01c7d6",
   "metadata": {},
   "source": [
    "# Python list methods"
   ]
  },
  {
   "cell_type": "code",
   "execution_count": 4,
   "id": "25fce022",
   "metadata": {},
   "outputs": [
    {
     "name": "stdout",
     "output_type": "stream",
     "text": [
      "['akhil', 'anil', 'sunny']\n"
     ]
    }
   ],
   "source": [
    "names = [\"akhil\" , 'anil', 'sunny']\n",
    "print(names)"
   ]
  },
  {
   "cell_type": "code",
   "execution_count": 5,
   "id": "58d84a6c",
   "metadata": {},
   "outputs": [],
   "source": [
    "names.append(\"sai\")# adding of a element at the end of the presnt list\n"
   ]
  },
  {
   "cell_type": "code",
   "execution_count": 6,
   "id": "d075146b",
   "metadata": {},
   "outputs": [
    {
     "data": {
      "text/plain": [
       "['akhil', 'anil', 'sunny', 'sai']"
      ]
     },
     "execution_count": 6,
     "metadata": {},
     "output_type": "execute_result"
    }
   ],
   "source": [
    "names"
   ]
  },
  {
   "cell_type": "code",
   "execution_count": 7,
   "id": "cad45d79",
   "metadata": {},
   "outputs": [],
   "source": [
    "names.insert(2,\"laxmi\") # adding of  a element at the specifed index position"
   ]
  },
  {
   "cell_type": "code",
   "execution_count": 8,
   "id": "cbf20ea5",
   "metadata": {},
   "outputs": [
    {
     "data": {
      "text/plain": [
       "['akhil', 'anil', 'laxmi', 'sunny', 'sai']"
      ]
     },
     "execution_count": 8,
     "metadata": {},
     "output_type": "execute_result"
    }
   ],
   "source": [
    "names"
   ]
  },
  {
   "cell_type": "code",
   "execution_count": 10,
   "id": "74b3f2fc",
   "metadata": {},
   "outputs": [
    {
     "data": {
      "text/plain": [
       "1"
      ]
     },
     "execution_count": 10,
     "metadata": {},
     "output_type": "execute_result"
    }
   ],
   "source": [
    "names.count('anil')# to know how many times the specified value is there in the list\n",
    "# syntax is  list.count(value)"
   ]
  },
  {
   "cell_type": "code",
   "execution_count": 11,
   "id": "76e7aa47",
   "metadata": {},
   "outputs": [],
   "source": [
    "# syntax is list.extend(iterable)\n",
    "age =  [23, 24, 40,]\n",
    "names.extend(age)"
   ]
  },
  {
   "cell_type": "code",
   "execution_count": 12,
   "id": "91484b59",
   "metadata": {},
   "outputs": [
    {
     "data": {
      "text/plain": [
       "['akhil', 'anil', 'laxmi', 'sunny', 'sai', 23, 24, 40]"
      ]
     },
     "execution_count": 12,
     "metadata": {},
     "output_type": "execute_result"
    }
   ],
   "source": [
    "names"
   ]
  },
  {
   "cell_type": "code",
   "execution_count": 13,
   "id": "5374e06b",
   "metadata": {},
   "outputs": [
    {
     "data": {
      "text/plain": [
       "3"
      ]
     },
     "execution_count": 13,
     "metadata": {},
     "output_type": "execute_result"
    }
   ],
   "source": [
    "# syntax is list.index(elmnt)\n",
    "names.index(\"sunny\")"
   ]
  },
  {
   "cell_type": "code",
   "execution_count": 14,
   "id": "af798b33",
   "metadata": {},
   "outputs": [
    {
     "data": {
      "text/plain": [
       "5"
      ]
     },
     "execution_count": 14,
     "metadata": {},
     "output_type": "execute_result"
    }
   ],
   "source": [
    "names.index(23)"
   ]
  },
  {
   "cell_type": "code",
   "execution_count": 15,
   "id": "23c8090b",
   "metadata": {},
   "outputs": [
    {
     "data": {
      "text/plain": [
       "'sai'"
      ]
     },
     "execution_count": 15,
     "metadata": {},
     "output_type": "execute_result"
    }
   ],
   "source": [
    "# Definition and Usage\n",
    "# The pop() method removes the element at the specified position\n",
    "names.pop(4)\n",
    "#  syntax list.pop(pos)"
   ]
  },
  {
   "cell_type": "code",
   "execution_count": 16,
   "id": "7d1f5960",
   "metadata": {},
   "outputs": [
    {
     "data": {
      "text/plain": [
       "['akhil', 'anil', 'laxmi', 'sunny', 23, 24, 40]"
      ]
     },
     "execution_count": 16,
     "metadata": {},
     "output_type": "execute_result"
    }
   ],
   "source": [
    "names"
   ]
  },
  {
   "cell_type": "code",
   "execution_count": 17,
   "id": "aa84a90e",
   "metadata": {},
   "outputs": [],
   "source": [
    "# Definition and Usage\n",
    "# The remove() method removes the first occurrence of the element with the specified value.\n",
    "names.remove(\"sunny\")\n",
    "# list.remove(elmnt)"
   ]
  },
  {
   "cell_type": "code",
   "execution_count": 18,
   "id": "241eeb90",
   "metadata": {},
   "outputs": [
    {
     "data": {
      "text/plain": [
       "['akhil', 'anil', 'laxmi', 23, 24, 40]"
      ]
     },
     "execution_count": 18,
     "metadata": {},
     "output_type": "execute_result"
    }
   ],
   "source": [
    "names"
   ]
  },
  {
   "cell_type": "code",
   "execution_count": 19,
   "id": "aef8e608",
   "metadata": {},
   "outputs": [],
   "source": [
    "# Definition and Usage\n",
    "# The reverse() method reverses the sorting order of the elements.\n",
    "names.reverse()"
   ]
  },
  {
   "cell_type": "code",
   "execution_count": 20,
   "id": "b3feb195",
   "metadata": {},
   "outputs": [
    {
     "data": {
      "text/plain": [
       "[40, 24, 23, 'laxmi', 'anil', 'akhil']"
      ]
     },
     "execution_count": 20,
     "metadata": {},
     "output_type": "execute_result"
    }
   ],
   "source": [
    "names"
   ]
  },
  {
   "cell_type": "code",
   "execution_count": 29,
   "id": "35b3ba18",
   "metadata": {},
   "outputs": [],
   "source": [
    "cars = [\"maruthi\" , \"tata\", 'verna ']\n",
    "cars.sort()# list.sort(reverse=True|False, key=myFunc) syntax"
   ]
  },
  {
   "cell_type": "code",
   "execution_count": 30,
   "id": "33fe1f19",
   "metadata": {},
   "outputs": [
    {
     "data": {
      "text/plain": [
       "['maruthi', 'tata', 'verna ']"
      ]
     },
     "execution_count": 30,
     "metadata": {},
     "output_type": "execute_result"
    }
   ],
   "source": [
    "cars"
   ]
  },
  {
   "cell_type": "code",
   "execution_count": 31,
   "id": "69325306",
   "metadata": {},
   "outputs": [
    {
     "data": {
      "text/plain": [
       "[40, 24, 23, 'laxmi', 'anil', 'akhil']"
      ]
     },
     "execution_count": 31,
     "metadata": {},
     "output_type": "execute_result"
    }
   ],
   "source": [
    "names"
   ]
  },
  {
   "cell_type": "markdown",
   "id": "a607a2b4",
   "metadata": {},
   "source": [
    "\n",
    "# Method\tDescription\n",
    "\n",
    "capitalize()\tConverts the first character to upper case\n",
    "\n",
    "casefold()\tConverts string into lower case\n",
    "\n",
    "center()\tReturns a centered string\n",
    "\n",
    "count()\tReturns the number of times a specified value occurs in a string\n",
    "\n",
    "encode()\tReturns an encoded version of the string\n",
    "\n",
    "endswith()\tReturns true if the string ends with the specified value\n",
    "\n",
    "expandtabs()\tSets the tab size of the string\n",
    "\n",
    "find()\tSearches the string for a specified value and returns the position of where it was found\n",
    "\n",
    "format()\tFormats specified values in a string\n",
    "\n",
    "format_map()\tFormats specified values in a string\n",
    "\n",
    "index()\tSearches the string for a specified value and returns the position of where it was found\n",
    "\n",
    "isalnum()\tReturns True if all characters in the string are alphanumeric\n",
    "\n",
    "isalpha()\tReturns True if all characters in the string are in the alphabet\n",
    "\n",
    "isascii()\tReturns True if all characters in the string are ascii characters\n",
    "\n",
    "isdecimal()\tReturns True if all characters in the string are decimals\n",
    "\n",
    "isdigit()\tReturns True if all characters in the string are digits\n",
    "\n",
    "isidentifier()\tReturns True if the string is an identifier\n",
    "\n",
    "islower()\tReturns True if all characters in the string are lower case\n",
    "\n",
    "isnumeric()\tReturns True if all characters in the string are numeric\n",
    "\n",
    "isprintable()\tReturns True if all characters in the string are printable\n",
    "\n",
    "isspace()\tReturns True if all characters in the string are whitespaces\n",
    "\n",
    "istitle()\tReturns True if the string follows the rules of a title\n",
    "\n",
    "isupper()\tReturns True if all characters in the string are upper case\n",
    "\n",
    "join()\tConverts the elements of an iterable into a string\n",
    "\n",
    "ljust()\tReturns a left justified version of the string\n",
    "\n",
    "lower()\tConverts a string into lower case\n",
    "\n",
    "lstrip()\tReturns a left trim version of the string\n",
    "\n",
    "maketrans()\tReturns a translation table to be used in translations\n",
    "\n",
    "partition()\tReturns a tuple where the string is parted into three parts\n",
    "\n",
    "replace()\tReturns a string where a specified value is replaced with a specified value\n",
    "\n",
    "rfind()\tSearches the string for a specified value and returns the last position of where it was found\n",
    "\n",
    "rindex()\tSearches the string for a specified value and returns the last position of where it was\n",
    "            found\n",
    "\n",
    "rjust()\tReturns a right justified version of the string\n",
    "\n",
    "rpartition()\tReturns a tuple where the string is parted into three parts\n",
    "\n",
    "rsplit()\tSplits the string at the specified separator, and returns a list\n",
    "\n",
    "\n",
    "rstrip()\tReturns a right trim version of the string\n",
    "\n",
    "split()\tSplits the string at the specified separator, and returns a list\n",
    "\n",
    "splitlines()\tSplits the string at line breaks and returns a list\n",
    "\n",
    "\n",
    "strip()\tReturns a trimmed version of the string\n",
    "\n",
    "swapcase()\tSwaps cases, lower case becomes upper case and vice versa\n",
    "\n",
    "title()\tConverts the first character of each word to upper case\n",
    "\n",
    "translate()\tReturns a translated string\n",
    "\n",
    "upper()\tConverts a string into upper case\n",
    "\n",
    "zfill()\tFills the string with a specified number of 0 values at the beginning\n",
    "\n",
    "Note: All string methods returns new values. They do not change the original strin"
   ]
  },
  {
   "cell_type": "code",
   "execution_count": 32,
   "id": "288eb522",
   "metadata": {},
   "outputs": [],
   "source": [
    "love = (\"i love my india\")"
   ]
  },
  {
   "cell_type": "code",
   "execution_count": 33,
   "id": "3d15f7d0",
   "metadata": {},
   "outputs": [
    {
     "data": {
      "text/plain": [
       "'I love my india'"
      ]
     },
     "execution_count": 33,
     "metadata": {},
     "output_type": "execute_result"
    }
   ],
   "source": [
    "love.capitalize()"
   ]
  },
  {
   "cell_type": "code",
   "execution_count": 35,
   "id": "aa9c19c1",
   "metadata": {},
   "outputs": [
    {
     "data": {
      "text/plain": [
       "'i love my india'"
      ]
     },
     "execution_count": 35,
     "metadata": {},
     "output_type": "execute_result"
    }
   ],
   "source": [
    "love.casefold()"
   ]
  },
  {
   "cell_type": "code",
   "execution_count": 37,
   "id": "b2f58630",
   "metadata": {},
   "outputs": [
    {
     "data": {
      "text/plain": [
       "'I LOVE MY INDIA'"
      ]
     },
     "execution_count": 37,
     "metadata": {},
     "output_type": "execute_result"
    }
   ],
   "source": [
    "love.upper()"
   ]
  },
  {
   "cell_type": "code",
   "execution_count": 42,
   "id": "063c6b4e",
   "metadata": {},
   "outputs": [
    {
     "data": {
      "text/plain": [
       "3"
      ]
     },
     "execution_count": 42,
     "metadata": {},
     "output_type": "execute_result"
    }
   ],
   "source": [
    "love.count(\"i\")\n"
   ]
  },
  {
   "cell_type": "code",
   "execution_count": 43,
   "id": "4c74b9b5",
   "metadata": {},
   "outputs": [
    {
     "data": {
      "text/plain": [
       "1"
      ]
     },
     "execution_count": 43,
     "metadata": {},
     "output_type": "execute_result"
    }
   ],
   "source": [
    "love.count(\"a\")"
   ]
  },
  {
   "cell_type": "code",
   "execution_count": 44,
   "id": "699c41bc",
   "metadata": {},
   "outputs": [
    {
     "data": {
      "text/plain": [
       "7"
      ]
     },
     "execution_count": 44,
     "metadata": {},
     "output_type": "execute_result"
    }
   ],
   "source": [
    "love.find(\"my\")"
   ]
  },
  {
   "cell_type": "code",
   "execution_count": 45,
   "id": "5fc8f212",
   "metadata": {},
   "outputs": [
    {
     "data": {
      "text/plain": [
       "0"
      ]
     },
     "execution_count": 45,
     "metadata": {},
     "output_type": "execute_result"
    }
   ],
   "source": [
    "love.index(\"i\")"
   ]
  },
  {
   "cell_type": "code",
   "execution_count": 46,
   "id": "afc3cdeb",
   "metadata": {},
   "outputs": [
    {
     "data": {
      "text/plain": [
       "10"
      ]
     },
     "execution_count": 46,
     "metadata": {},
     "output_type": "execute_result"
    }
   ],
   "source": [
    "love.index(\"india\")"
   ]
  },
  {
   "cell_type": "code",
   "execution_count": 47,
   "id": "e57c435c",
   "metadata": {},
   "outputs": [
    {
     "data": {
      "text/plain": [
       "'i love my country'"
      ]
     },
     "execution_count": 47,
     "metadata": {},
     "output_type": "execute_result"
    }
   ],
   "source": [
    "love.replace(\"india\", \"country\")"
   ]
  },
  {
   "cell_type": "code",
   "execution_count": 49,
   "id": "fa16d82d",
   "metadata": {},
   "outputs": [
    {
     "data": {
      "text/plain": [
       "'I Love My India'"
      ]
     },
     "execution_count": 49,
     "metadata": {},
     "output_type": "execute_result"
    }
   ],
   "source": [
    "love.title()"
   ]
  },
  {
   "cell_type": "code",
   "execution_count": 51,
   "id": "e35f3afe",
   "metadata": {},
   "outputs": [
    {
     "data": {
      "text/plain": [
       "'I LOVE MY INDIA'"
      ]
     },
     "execution_count": 51,
     "metadata": {},
     "output_type": "execute_result"
    }
   ],
   "source": [
    "love.swapcase()"
   ]
  },
  {
   "cell_type": "code",
   "execution_count": 52,
   "id": "7955177a",
   "metadata": {},
   "outputs": [
    {
     "data": {
      "text/plain": [
       "10"
      ]
     },
     "execution_count": 52,
     "metadata": {},
     "output_type": "execute_result"
    }
   ],
   "source": [
    "love.rfind(\"india\")"
   ]
  },
  {
   "cell_type": "markdown",
   "id": "e078ce05",
   "metadata": {},
   "source": [
    "# Python Dictionary Methods"
   ]
  },
  {
   "cell_type": "markdown",
   "id": "03c9faff",
   "metadata": {},
   "source": [
    "# Method\tDescription\n",
    "\n",
    "clear()\tRemoves all the elements from the dictionary\n",
    "\n",
    "copy()\tReturns a copy of the dictionary\n",
    "\n",
    "fromkeys()\tReturns a dictionary with the specified keys and value\n",
    "\n",
    "get()\tReturns the value of the specified key\n",
    "\n",
    "items()\tReturns a list containing a tuple for each key value pair\n",
    "\n",
    "keys()\tReturns a list containing the dictionary's keys\n",
    "\n",
    "pop()\tRemoves the element with the specified key\n",
    "\n",
    "popitem()\tRemoves the last inserted key-value pair\n",
    "\n",
    "setdefault()\tReturns the value of the specified key. If the key does not exist: insert the key,                     with the specified value\n",
    "\n",
    "update()\tUpdates the dictionary with the specified key-value pairs\n",
    "\n",
    "values()\tReturns a list of all the values in the dictionary"
   ]
  },
  {
   "cell_type": "code",
   "execution_count": 57,
   "id": "65abc060",
   "metadata": {},
   "outputs": [],
   "source": [
    "# dictionary.clear() sintax\n",
    "cars = {\n",
    "    \"brand\": \"Ford\",\n",
    "  \"model\": \"Mustang\",\n",
    "  \"year\": 1964\n",
    "}\n"
   ]
  },
  {
   "cell_type": "code",
   "execution_count": 58,
   "id": "a55b8384",
   "metadata": {},
   "outputs": [
    {
     "data": {
      "text/plain": [
       "{'brand': 'Ford', 'model': 'Mustang', 'year': 1964}"
      ]
     },
     "execution_count": 58,
     "metadata": {},
     "output_type": "execute_result"
    }
   ],
   "source": [
    "cars"
   ]
  },
  {
   "cell_type": "code",
   "execution_count": 59,
   "id": "e5f82367",
   "metadata": {},
   "outputs": [
    {
     "data": {
      "text/plain": [
       "{'brand': 'Ford', 'model': 'Mustang', 'year': 1964}"
      ]
     },
     "execution_count": 59,
     "metadata": {},
     "output_type": "execute_result"
    }
   ],
   "source": [
    "cars.copy()"
   ]
  },
  {
   "cell_type": "code",
   "execution_count": 61,
   "id": "4ea176eb",
   "metadata": {},
   "outputs": [
    {
     "data": {
      "text/plain": [
       "{'brand': 'Ford', 'model': 'Mustang', 'year': 1964}"
      ]
     },
     "execution_count": 61,
     "metadata": {},
     "output_type": "execute_result"
    }
   ],
   "source": [
    "cars"
   ]
  },
  {
   "cell_type": "code",
   "execution_count": 63,
   "id": "742162ad",
   "metadata": {},
   "outputs": [
    {
     "data": {
      "text/plain": [
       "{'b': 'ford', 'r': 'ford', 'a': 'ford', 'n': 'ford', 'd': 'ford'}"
      ]
     },
     "execution_count": 63,
     "metadata": {},
     "output_type": "execute_result"
    }
   ],
   "source": [
    "cars.fromkeys(\"brand\" , \"ford\")"
   ]
  },
  {
   "cell_type": "code",
   "execution_count": 64,
   "id": "0bb41f92",
   "metadata": {},
   "outputs": [
    {
     "name": "stdout",
     "output_type": "stream",
     "text": [
      "{'key1': 0, 'key2': 0, 'key3': 0}\n"
     ]
    }
   ],
   "source": [
    "x = ('key1', 'key2', 'key3')\n",
    "y = 0\n",
    "\n",
    "thisdict = dict.fromkeys(x, y)\n",
    "\n",
    "print(thisdict)"
   ]
  },
  {
   "cell_type": "code",
   "execution_count": 65,
   "id": "a040483b",
   "metadata": {},
   "outputs": [
    {
     "data": {
      "text/plain": [
       "'Ford'"
      ]
     },
     "execution_count": 65,
     "metadata": {},
     "output_type": "execute_result"
    }
   ],
   "source": [
    "# The get() method returns the value of the item with the specified key.\n",
    "cars.get(\"brand\")# dictionary.get(keyname, value) syntax\n"
   ]
  },
  {
   "cell_type": "code",
   "execution_count": 66,
   "id": "79904931",
   "metadata": {},
   "outputs": [
    {
     "data": {
      "text/plain": [
       "dict_items([('brand', 'Ford'), ('model', 'Mustang'), ('year', 1964)])"
      ]
     },
     "execution_count": 66,
     "metadata": {},
     "output_type": "execute_result"
    }
   ],
   "source": [
    "# The items() method returns a view object. The view object contains the key-value pairs of the dictionary, as tuples in a list.\n",
    "\n",
    "# The view object will reflect any changes done to the dictionary, see example below.\n",
    "cars.items()\n"
   ]
  },
  {
   "cell_type": "code",
   "execution_count": 67,
   "id": "9544b948",
   "metadata": {},
   "outputs": [],
   "source": [
    "x = cars.items()\n",
    "cars[\"year\"] = 2000"
   ]
  },
  {
   "cell_type": "code",
   "execution_count": 68,
   "id": "7b25b812",
   "metadata": {},
   "outputs": [
    {
     "data": {
      "text/plain": [
       "{'brand': 'Ford', 'model': 'Mustang', 'year': 2000}"
      ]
     },
     "execution_count": 68,
     "metadata": {},
     "output_type": "execute_result"
    }
   ],
   "source": [
    "cars"
   ]
  },
  {
   "cell_type": "code",
   "execution_count": 69,
   "id": "45025735",
   "metadata": {},
   "outputs": [
    {
     "data": {
      "text/plain": [
       "dict_keys(['brand', 'model', 'year'])"
      ]
     },
     "execution_count": 69,
     "metadata": {},
     "output_type": "execute_result"
    }
   ],
   "source": [
    "cars.keys()"
   ]
  },
  {
   "cell_type": "code",
   "execution_count": 70,
   "id": "cea4d80c",
   "metadata": {},
   "outputs": [
    {
     "data": {
      "text/plain": [
       "'Ford'"
      ]
     },
     "execution_count": 70,
     "metadata": {},
     "output_type": "execute_result"
    }
   ],
   "source": [
    "# The pop() method removes the specified item from the dictionary.\n",
    "cars.pop(\"brand\")\n",
    "# dictionary.pop(keyname, defaultvalue) syntax"
   ]
  },
  {
   "cell_type": "code",
   "execution_count": 74,
   "id": "167d7a12",
   "metadata": {},
   "outputs": [
    {
     "data": {
      "text/plain": [
       "{'model': 'Mustang', 'year': 2000}"
      ]
     },
     "execution_count": 74,
     "metadata": {},
     "output_type": "execute_result"
    }
   ],
   "source": [
    "cars"
   ]
  },
  {
   "cell_type": "code",
   "execution_count": 79,
   "id": "b24315e0",
   "metadata": {},
   "outputs": [],
   "source": [
    "cars.update({\"tyre type\" : \"ceat\"})"
   ]
  },
  {
   "cell_type": "code",
   "execution_count": 81,
   "id": "58d17133",
   "metadata": {},
   "outputs": [
    {
     "data": {
      "text/plain": [
       "{'model': 'Mustang', 'year': 2000, 'tyre type': 'ceat'}"
      ]
     },
     "execution_count": 81,
     "metadata": {},
     "output_type": "execute_result"
    }
   ],
   "source": [
    "cars"
   ]
  },
  {
   "cell_type": "code",
   "execution_count": 82,
   "id": "03593e24",
   "metadata": {},
   "outputs": [
    {
     "data": {
      "text/plain": [
       "('tyre type', 'ceat')"
      ]
     },
     "execution_count": 82,
     "metadata": {},
     "output_type": "execute_result"
    }
   ],
   "source": [
    "cars.popitem()"
   ]
  },
  {
   "cell_type": "code",
   "execution_count": 83,
   "id": "a91569c0",
   "metadata": {},
   "outputs": [
    {
     "data": {
      "text/plain": [
       "dict_values(['Mustang', 2000])"
      ]
     },
     "execution_count": 83,
     "metadata": {},
     "output_type": "execute_result"
    }
   ],
   "source": [
    "cars.values()"
   ]
  },
  {
   "cell_type": "code",
   "execution_count": null,
   "id": "1adad91d",
   "metadata": {},
   "outputs": [],
   "source": []
  }
 ],
 "metadata": {
  "kernelspec": {
   "display_name": "Python 3 (ipykernel)",
   "language": "python",
   "name": "python3"
  },
  "language_info": {
   "codemirror_mode": {
    "name": "ipython",
    "version": 3
   },
   "file_extension": ".py",
   "mimetype": "text/x-python",
   "name": "python",
   "nbconvert_exporter": "python",
   "pygments_lexer": "ipython3",
   "version": "3.9.7"
  }
 },
 "nbformat": 4,
 "nbformat_minor": 5
}
