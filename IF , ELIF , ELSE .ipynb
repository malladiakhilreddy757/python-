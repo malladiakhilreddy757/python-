{
 "cells": [
  {
   "cell_type": "markdown",
   "id": "cbac1189",
   "metadata": {},
   "source": [
    "# if condition"
   ]
  },
  {
   "cell_type": "code",
   "execution_count": 1,
   "id": "664d9846",
   "metadata": {},
   "outputs": [
    {
     "data": {
      "text/plain": [
       "'\\nsyntax of if\\n\\nif(condition/s):\\n    statement1\\n    statement2\\n    ..........\\n'"
      ]
     },
     "execution_count": 1,
     "metadata": {},
     "output_type": "execute_result"
    }
   ],
   "source": [
    "\"\"\"\n",
    "syntax of if\n",
    "\n",
    "if(condition/s):\n",
    "    statement1\n",
    "    statement2\n",
    "    ..........\n",
    "\"\"\""
   ]
  },
  {
   "cell_type": "code",
   "execution_count": 2,
   "id": "ddeee1d2",
   "metadata": {},
   "outputs": [
    {
     "name": "stdout",
     "output_type": "stream",
     "text": [
      "Both the numbers are same\n"
     ]
    }
   ],
   "source": [
    "#Ex1)\n",
    "num1 = 10\n",
    "num2 = 10\n",
    "\n",
    "if(num1 == num2):\n",
    "    print(\"Both the numbers are same\")"
   ]
  },
  {
   "cell_type": "code",
   "execution_count": 4,
   "id": "688b7da0",
   "metadata": {},
   "outputs": [
    {
     "name": "stdout",
     "output_type": "stream",
     "text": [
      "Numbers are different\n"
     ]
    }
   ],
   "source": [
    "#Ex2)\n",
    "num1 = 11\n",
    "num2 = 10\n",
    "if(num1 != num2):\n",
    "    print(\"Numbers are different\")"
   ]
  },
  {
   "cell_type": "markdown",
   "id": "f05cb267",
   "metadata": {},
   "source": [
    "# Indentation\n",
    "  whitespace at the beginning of a line"
   ]
  },
  {
   "cell_type": "code",
   "execution_count": 5,
   "id": "e6e23cbe",
   "metadata": {},
   "outputs": [
    {
     "ename": "IndentationError",
     "evalue": "expected an indented block (Temp/ipykernel_10036/2643301198.py, line 3)",
     "output_type": "error",
     "traceback": [
      "\u001b[1;36m  File \u001b[1;32m\"C:\\Users\\user\\AppData\\Local\\Temp/ipykernel_10036/2643301198.py\"\u001b[1;36m, line \u001b[1;32m3\u001b[0m\n\u001b[1;33m    print(\"A\") #ERROR\u001b[0m\n\u001b[1;37m    ^\u001b[0m\n\u001b[1;31mIndentationError\u001b[0m\u001b[1;31m:\u001b[0m expected an indented block\n"
     ]
    }
   ],
   "source": [
    "#Ex1)\n",
    "if(4>2):\n",
    "print(\"A\") #ERROR"
   ]
  },
  {
   "cell_type": "code",
   "execution_count": 6,
   "id": "ba745cb9",
   "metadata": {},
   "outputs": [
    {
     "ename": "IndentationError",
     "evalue": "unexpected indent (Temp/ipykernel_10036/3279342044.py, line 4)",
     "output_type": "error",
     "traceback": [
      "\u001b[1;36m  File \u001b[1;32m\"C:\\Users\\user\\AppData\\Local\\Temp/ipykernel_10036/3279342044.py\"\u001b[1;36m, line \u001b[1;32m4\u001b[0m\n\u001b[1;33m    print(\"B\") #Error\u001b[0m\n\u001b[1;37m    ^\u001b[0m\n\u001b[1;31mIndentationError\u001b[0m\u001b[1;31m:\u001b[0m unexpected indent\n"
     ]
    }
   ],
   "source": [
    "#Ex2)\n",
    "if(4>2):\n",
    "    print(\"A\")\n",
    "        print(\"B\") #Error"
   ]
  },
  {
   "cell_type": "code",
   "execution_count": 8,
   "id": "ac1b9295",
   "metadata": {},
   "outputs": [
    {
     "ename": "IndentationError",
     "evalue": "unindent does not match any outer indentation level (<tokenize>, line 4)",
     "output_type": "error",
     "traceback": [
      "\u001b[1;36m  File \u001b[1;32m\"<tokenize>\"\u001b[1;36m, line \u001b[1;32m4\u001b[0m\n\u001b[1;33m    print(\"B\") #Error\u001b[0m\n\u001b[1;37m    ^\u001b[0m\n\u001b[1;31mIndentationError\u001b[0m\u001b[1;31m:\u001b[0m unindent does not match any outer indentation level\n"
     ]
    }
   ],
   "source": [
    "#Ex3)\n",
    "if(4>2):\n",
    "        print(\"A\")\n",
    "    print(\"B\") #Error"
   ]
  },
  {
   "cell_type": "code",
   "execution_count": 9,
   "id": "bd904700",
   "metadata": {},
   "outputs": [
    {
     "name": "stdout",
     "output_type": "stream",
     "text": [
      "A\n",
      "B\n",
      "C\n"
     ]
    }
   ],
   "source": [
    "#Ex4)\n",
    "if(4>2):\n",
    "        print(\"A\")\n",
    "        print(\"B\") #Valid\n",
    "        print(\"C\") #Valid"
   ]
  },
  {
   "cell_type": "markdown",
   "id": "a4df50f9",
   "metadata": {},
   "source": [
    "# if.. else.."
   ]
  },
  {
   "cell_type": "code",
   "execution_count": 10,
   "id": "68088249",
   "metadata": {},
   "outputs": [
    {
     "data": {
      "text/plain": [
       "'\\nsyntax of if else\\n\\nif(condition/s):\\n    statement1\\n    statement2\\n    ..........\\nelse:\\n    statement1\\n    statement2\\n    ..........\\n'"
      ]
     },
     "execution_count": 10,
     "metadata": {},
     "output_type": "execute_result"
    }
   ],
   "source": [
    "\"\"\"\n",
    "syntax of if else\n",
    "\n",
    "if(condition/s):\n",
    "    statement1\n",
    "    statement2\n",
    "    ..........\n",
    "else:\n",
    "    statement1\n",
    "    statement2\n",
    "    ..........\n",
    "\"\"\""
   ]
  },
  {
   "cell_type": "code",
   "execution_count": 11,
   "id": "f74f3f0b",
   "metadata": {},
   "outputs": [
    {
     "name": "stdout",
     "output_type": "stream",
     "text": [
      "Not equal\n"
     ]
    }
   ],
   "source": [
    "#Ex1) \n",
    "num1 = 10\n",
    "num2 = 5\n",
    "\n",
    "if(num1 == num2):\n",
    "    print(\"equal\")\n",
    "else:\n",
    "    print(\"Not equal\")\n"
   ]
  },
  {
   "cell_type": "code",
   "execution_count": 12,
   "id": "0822db9b",
   "metadata": {},
   "outputs": [
    {
     "name": "stdout",
     "output_type": "stream",
     "text": [
      "num1 is greater than num2\n"
     ]
    }
   ],
   "source": [
    "#Ex2)\n",
    "if(num1<num2):\n",
    "    print(\"num1 is less than num2\")\n",
    "else:\n",
    "    print(\"num1 is greater than num2\")"
   ]
  },
  {
   "cell_type": "markdown",
   "id": "e70626e5",
   "metadata": {},
   "source": [
    "# if .. elif .. else"
   ]
  },
  {
   "cell_type": "code",
   "execution_count": 14,
   "id": "3a94b348",
   "metadata": {},
   "outputs": [
    {
     "data": {
      "text/plain": [
       "'\\nsyntax of if else\\n\\nif(condition/s):\\n    statement1\\n    statement2\\n    ..........\\nelif(condition/s):\\n    statement1\\n    statement2\\n    ..........\\nelse:\\n    statement1\\n    statement2\\n    ..........\\n'"
      ]
     },
     "execution_count": 14,
     "metadata": {},
     "output_type": "execute_result"
    }
   ],
   "source": [
    "\"\"\"\n",
    "syntax of if else\n",
    "\n",
    "if(condition/s):\n",
    "    statement1\n",
    "    statement2\n",
    "    ..........\n",
    "elif(condition/s):\n",
    "    statement1\n",
    "    statement2\n",
    "    ..........\n",
    "else:\n",
    "    statement1\n",
    "    statement2\n",
    "    ..........\n",
    "\"\"\""
   ]
  },
  {
   "cell_type": "code",
   "execution_count": 15,
   "id": "19755468",
   "metadata": {},
   "outputs": [
    {
     "name": "stdout",
     "output_type": "stream",
     "text": [
      "Equal\n"
     ]
    }
   ],
   "source": [
    "#Ex1)\n",
    "num1 = 10\n",
    "num2 = 10\n",
    "\n",
    "if(num1 == num2):\n",
    "    print(\"Equal\")\n",
    "elif(num1>num2):\n",
    "    print('num1 is greater than num2')\n",
    "    \n",
    "else:\n",
    "    print('num1 is less than num2')"
   ]
  },
  {
   "cell_type": "markdown",
   "id": "71d0a2e9",
   "metadata": {},
   "source": [
    "# Multiple conditions\n",
    "  by using or & and operators"
   ]
  },
  {
   "cell_type": "code",
   "execution_count": 16,
   "id": "124c9e03",
   "metadata": {},
   "outputs": [
    {
     "name": "stdout",
     "output_type": "stream",
     "text": [
      "Satisfied\n"
     ]
    }
   ],
   "source": [
    "#Ex1) or\n",
    "num1 =7\n",
    "# it should be positive\n",
    "# or it should be divisible by 2\n",
    "# or it should be divisible by 3\n",
    "\n",
    "if(num1>0 or num1%2 == 0 or num1%3 == 0):\n",
    "    print(\"Satisfied\")\n",
    "else:\n",
    "    print(\"Not satisfied\")"
   ]
  },
  {
   "cell_type": "code",
   "execution_count": 17,
   "id": "88848188",
   "metadata": {},
   "outputs": [
    {
     "name": "stdout",
     "output_type": "stream",
     "text": [
      "Satisfied\n"
     ]
    }
   ],
   "source": [
    "#Ex2) and\n",
    "num1 = 6\n",
    "if(num1>0 and num1%2 == 0 and num1%3 == 0):\n",
    "    print(\"Satisfied\")\n",
    "else:\n",
    "    print(\"Not satisfied\")"
   ]
  },
  {
   "cell_type": "markdown",
   "id": "a2ca153b",
   "metadata": {},
   "source": [
    "# Nested if else"
   ]
  },
  {
   "cell_type": "code",
   "execution_count": 19,
   "id": "25f04ec8",
   "metadata": {},
   "outputs": [
    {
     "name": "stdout",
     "output_type": "stream",
     "text": [
      "positive number\n",
      "Not divisible by 2 or 3\n"
     ]
    }
   ],
   "source": [
    "#Ex1)\n",
    "num1 = 1\n",
    "if(num1>0):\n",
    "    print(\"positive number\")\n",
    "    if(num1%2 == 0):\n",
    "        print(\"Divisible by 2\")\n",
    "    elif(num1%3 == 0):\n",
    "        print(\"Divisible by 3\")\n",
    "    else:\n",
    "        print(\"Not divisible by 2 or 3\")\n",
    "else:\n",
    "    print(\"negative number\")"
   ]
  },
  {
   "cell_type": "code",
   "execution_count": 20,
   "id": "439f10ec",
   "metadata": {},
   "outputs": [
    {
     "name": "stdout",
     "output_type": "stream",
     "text": [
      "positive number\n",
      "Divisible by 3\n"
     ]
    }
   ],
   "source": [
    "#Ex1)\n",
    "num1 = 3\n",
    "if(num1>0):\n",
    "    print(\"positive number\")\n",
    "    if(num1%2 == 0):\n",
    "        print(\"Divisible by 2\")\n",
    "    elif(num1%3 == 0):\n",
    "        print(\"Divisible by 3\")\n",
    "    else:\n",
    "        print(\"Not divisible by 2 or 3\")\n",
    "else:\n",
    "    print(\"negative number\")"
   ]
  },
  {
   "cell_type": "code",
   "execution_count": 25,
   "id": "9b117407",
   "metadata": {},
   "outputs": [
    {
     "name": "stdout",
     "output_type": "stream",
     "text": [
      "enter any number8\n",
      "enter any number8\n",
      "1 ,2 , 3, 43\n",
      "please choose proper number\n"
     ]
    }
   ],
   "source": [
    "num1 = input(\"enter any number\")\n",
    "num2 = input(\"enter any number\")\n",
    "command = input(\"1 ,2 , 3, 4\")\n",
    "if (command == 1):\n",
    "    print(num1 + num2)\n",
    "elif (command == 2):\n",
    "    print(num1 - num2)\n",
    "elif (command == 3):\n",
    "    print(num1 * num2)\n",
    "elif(command == 4):\n",
    "    print(num1 / num2)\n",
    "else:\n",
    "    print(\"please choose proper number\")"
   ]
  },
  {
   "cell_type": "code",
   "execution_count": null,
   "id": "034ebf03",
   "metadata": {},
   "outputs": [],
   "source": []
  },
  {
   "cell_type": "code",
   "execution_count": null,
   "id": "f77a6262",
   "metadata": {},
   "outputs": [],
   "source": []
  }
 ],
 "metadata": {
  "kernelspec": {
   "display_name": "Python 3 (ipykernel)",
   "language": "python",
   "name": "python3"
  },
  "language_info": {
   "codemirror_mode": {
    "name": "ipython",
    "version": 3
   },
   "file_extension": ".py",
   "mimetype": "text/x-python",
   "name": "python",
   "nbconvert_exporter": "python",
   "pygments_lexer": "ipython3",
   "version": "3.9.7"
  }
 },
 "nbformat": 4,
 "nbformat_minor": 5
}
