{
 "cells": [
  {
   "cell_type": "markdown",
   "id": "2ef7bb3e",
   "metadata": {},
   "source": [
    "# List Comprehension\n",
    "\n",
    "#### List comprehension offers a shorter syntax when you want to create a new list based on the values of          an existing list.\n",
    "\n",
    " Example: You want to create a list of all the fruits that has the letter \"a\" in the name.\n",
    "\n",
    " Without list comprehension you will have to write a for statement with a conditional test inside:"
   ]
  },
  {
   "cell_type": "code",
   "execution_count": null,
   "id": "b738140f",
   "metadata": {},
   "outputs": [],
   "source": [
    "# syntax my_list = [item for item in sequence]"
   ]
  },
  {
   "cell_type": "markdown",
   "id": "414b2321",
   "metadata": {},
   "source": [
    "# example 1"
   ]
  },
  {
   "cell_type": "code",
   "execution_count": 1,
   "id": "e874ad8c",
   "metadata": {},
   "outputs": [
    {
     "name": "stdout",
     "output_type": "stream",
     "text": [
      "['apple', 'banana', 'mango']\n"
     ]
    }
   ],
   "source": [
    "fruits = [\"apple\", \"banana\", \"cherry\", \"kiwi\", \"mango\"]\n",
    "newlist = []\n",
    "\n",
    "for x in fruits:\n",
    "  if \"a\" in x:\n",
    "    newlist.append(x)\n",
    "\n",
    "print(newlist)"
   ]
  },
  {
   "cell_type": "code",
   "execution_count": 2,
   "id": "54fdd543",
   "metadata": {},
   "outputs": [
    {
     "name": "stdout",
     "output_type": "stream",
     "text": [
      "['apple', 'banana', 'mango']\n"
     ]
    }
   ],
   "source": [
    "fruits = [\"apple\", \"banana\", \"cherry\", \"kiwi\", \"mango\"]\n",
    "\n",
    "newlist = [x for x in fruits if \"a\" in x]\n",
    "\n",
    "print(newlist)"
   ]
  },
  {
   "cell_type": "markdown",
   "id": "e6c7971e",
   "metadata": {},
   "source": [
    "# example 2"
   ]
  },
  {
   "cell_type": "code",
   "execution_count": 3,
   "id": "f0bab615",
   "metadata": {},
   "outputs": [
    {
     "name": "stdout",
     "output_type": "stream",
     "text": [
      "['P', 'y', 't', 'h', 'o', 'n', 'L', 'i', 's', 't']\n"
     ]
    }
   ],
   "source": [
    "# to convert a string to list of characters\n",
    "# normal method\n",
    "x  = 'PythonList'\n",
    "\n",
    "x_list = [] # step 1\n",
    "\n",
    "for char in x: # step 2\n",
    "    x_list.append(char) # step 3\n",
    "    \n",
    "print(x_list)"
   ]
  },
  {
   "cell_type": "code",
   "execution_count": 4,
   "id": "71c1988e",
   "metadata": {},
   "outputs": [
    {
     "name": "stdout",
     "output_type": "stream",
     "text": [
      "['P', 'y', 't', 'h', 'o', 'n', 'L', 'i', 's', 't']\n"
     ]
    }
   ],
   "source": [
    "# Using list comprehension\n",
    "x_list = [char for char in x]\n",
    "print(x_list)"
   ]
  },
  {
   "cell_type": "markdown",
   "id": "2e0295ff",
   "metadata": {},
   "source": [
    "# example 3"
   ]
  },
  {
   "cell_type": "code",
   "execution_count": 5,
   "id": "cfa03f31",
   "metadata": {},
   "outputs": [
    {
     "name": "stdout",
     "output_type": "stream",
     "text": [
      "[0, 1, 4, 9, 16, 25, 36, 49, 64, 81, 100]\n"
     ]
    }
   ],
   "source": [
    "# create a list which contains the squares of 0 to 10\n",
    "# without list comprehension\n",
    "list1 = []\n",
    "\n",
    "for i in range(11):\n",
    "    list1.append(i**2)\n",
    "\n",
    "print(list1)"
   ]
  },
  {
   "cell_type": "code",
   "execution_count": 6,
   "id": "74d11206",
   "metadata": {},
   "outputs": [
    {
     "name": "stdout",
     "output_type": "stream",
     "text": [
      "[0, 1, 4, 9, 16, 25, 36, 49, 64, 81, 100]\n"
     ]
    }
   ],
   "source": [
    "# with list comprehensions\n",
    "list1 = [i**2 for i in range(11)]\n",
    "print(list1)"
   ]
  },
  {
   "cell_type": "markdown",
   "id": "2a628327",
   "metadata": {},
   "source": [
    "# example 4"
   ]
  },
  {
   "cell_type": "code",
   "execution_count": 7,
   "id": "24d630d4",
   "metadata": {},
   "outputs": [
    {
     "name": "stdout",
     "output_type": "stream",
     "text": [
      "[0, 2, 4, 6, 8, 10]\n"
     ]
    }
   ],
   "source": [
    "# normal method\n",
    "list1 = [] \n",
    "\n",
    "for i in range(11):\n",
    "    if(i%2 == 0):\n",
    "        list1.append(i)\n",
    "        \n",
    "print(list1)"
   ]
  },
  {
   "cell_type": "code",
   "execution_count": 8,
   "id": "bd7f0651",
   "metadata": {},
   "outputs": [
    {
     "data": {
      "text/plain": [
       "[0, 2, 4, 6, 8, 10]"
      ]
     },
     "execution_count": 8,
     "metadata": {},
     "output_type": "execute_result"
    }
   ],
   "source": [
    "# Check for even numbers in a range\n",
    "list1 = [i for i in range(11) if(i%2 == 0)] \n",
    "list1"
   ]
  },
  {
   "cell_type": "markdown",
   "id": "79939aae",
   "metadata": {},
   "source": [
    "# example 5"
   ]
  },
  {
   "cell_type": "code",
   "execution_count": 9,
   "id": "02ba39f0",
   "metadata": {},
   "outputs": [
    {
     "name": "stdout",
     "output_type": "stream",
     "text": [
      "[1000, 2000, 3000, 4000, 5000]\n"
     ]
    }
   ],
   "source": [
    "# Convert Kms to meters\n",
    "# 1km = 1000m\n",
    "km_list = [1,2,3,4,5]\n",
    "\n",
    "m_list = []\n",
    "\n",
    "for i in km_list:\n",
    "    m_list.append(i*1000)\n",
    "    \n",
    "print(m_list)"
   ]
  },
  {
   "cell_type": "code",
   "execution_count": null,
   "id": "9bca8e8f",
   "metadata": {},
   "outputs": [],
   "source": []
  }
 ],
 "metadata": {
  "kernelspec": {
   "display_name": "Python 3 (ipykernel)",
   "language": "python",
   "name": "python3"
  },
  "language_info": {
   "codemirror_mode": {
    "name": "ipython",
    "version": 3
   },
   "file_extension": ".py",
   "mimetype": "text/x-python",
   "name": "python",
   "nbconvert_exporter": "python",
   "pygments_lexer": "ipython3",
   "version": "3.9.7"
  }
 },
 "nbformat": 4,
 "nbformat_minor": 5
}
