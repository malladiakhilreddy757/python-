{
 "cells": [
  {
   "cell_type": "markdown",
   "id": "95f17be1",
   "metadata": {},
   "source": [
    "# File Handling\n",
    "\n",
    "##### Python supports file handling and allows users to handle files i.e., to read and write files\n",
    "\n",
    "###### we use open() function to do the file handling in python\n",
    "\n",
    "##### open() function"
   ]
  },
  {
   "cell_type": "code",
   "execution_count": null,
   "id": "7852944a",
   "metadata": {},
   "outputs": [],
   "source": [
    "\"\"\"\n",
    "syntax --->\n",
    "open(filename,mode)\n",
    "\n",
    "filename - name of the file.\n",
    "mode - mode is used to specify what action you want to perform.\n",
    "\n",
    "mode can take the following values : \n",
    "\n",
    "\"r\" - Read - Default value. \n",
    "If the file is present, then it opens the file for reading.Else it will throw an error\n",
    "\n",
    "\"a\" - Append \n",
    "If the file is present, it opens the file for appending.Else creates the new file. \n",
    "\n",
    "\"w\" - Write \n",
    "If the file is present,it opens the file for writing.Else creates the new file.\n",
    "\n",
    "\"\"\""
   ]
  },
  {
   "cell_type": "markdown",
   "id": "d2573c10",
   "metadata": {},
   "source": [
    "# Note:\n",
    "\n",
    "Whenever you do the read/write operations follow these steps:\n",
    "\n",
    "1) open the file\n",
    "\n",
    "2) do read/write operations\n",
    "\n",
    "3) close the file\n",
    "\n",
    "# 1) To open and Read the files"
   ]
  },
  {
   "cell_type": "code",
   "execution_count": 21,
   "id": "43e32926",
   "metadata": {},
   "outputs": [],
   "source": [
    "file = open('MyFile.txt','r')#same as open('MyFile.txt')"
   ]
  },
  {
   "cell_type": "markdown",
   "id": "ec25f707",
   "metadata": {},
   "source": [
    "# 1) read()"
   ]
  },
  {
   "cell_type": "code",
   "execution_count": 22,
   "id": "89788b83",
   "metadata": {},
   "outputs": [
    {
     "data": {
      "text/plain": [
       "'hai this is akhil reddy.\\niam the second line .\\niam the third line .\\niam the 4th line .'"
      ]
     },
     "execution_count": 22,
     "metadata": {},
     "output_type": "execute_result"
    }
   ],
   "source": [
    "file.read()"
   ]
  },
  {
   "cell_type": "code",
   "execution_count": 23,
   "id": "81d15c40",
   "metadata": {},
   "outputs": [
    {
     "data": {
      "text/plain": [
       "''"
      ]
     },
     "execution_count": 23,
     "metadata": {},
     "output_type": "execute_result"
    }
   ],
   "source": [
    "#trying to read again\n",
    "file.read()"
   ]
  },
  {
   "cell_type": "code",
   "execution_count": 24,
   "id": "98843cfb",
   "metadata": {},
   "outputs": [
    {
     "data": {
      "text/plain": [
       "0"
      ]
     },
     "execution_count": 24,
     "metadata": {},
     "output_type": "execute_result"
    }
   ],
   "source": [
    "#to take the cursor back to beginning of the text file, use seek()\n",
    "file.seek(0)"
   ]
  },
  {
   "cell_type": "markdown",
   "id": "2449c9e3",
   "metadata": {},
   "source": [
    "# 2) readline()"
   ]
  },
  {
   "cell_type": "code",
   "execution_count": 25,
   "id": "fbd1b71d",
   "metadata": {},
   "outputs": [
    {
     "data": {
      "text/plain": [
       "'hai this is akhil reddy.\\n'"
      ]
     },
     "execution_count": 25,
     "metadata": {},
     "output_type": "execute_result"
    }
   ],
   "source": [
    "file.seek(0)\n",
    "file.readline()"
   ]
  },
  {
   "cell_type": "code",
   "execution_count": 26,
   "id": "cad3af57",
   "metadata": {},
   "outputs": [
    {
     "data": {
      "text/plain": [
       "'iam the second line .\\n'"
      ]
     },
     "execution_count": 26,
     "metadata": {},
     "output_type": "execute_result"
    }
   ],
   "source": [
    "file.readline()"
   ]
  },
  {
   "cell_type": "code",
   "execution_count": 27,
   "id": "1f763d46",
   "metadata": {},
   "outputs": [
    {
     "data": {
      "text/plain": [
       "'iam the third line .\\n'"
      ]
     },
     "execution_count": 27,
     "metadata": {},
     "output_type": "execute_result"
    }
   ],
   "source": [
    "file.readline()"
   ]
  },
  {
   "cell_type": "code",
   "execution_count": 28,
   "id": "9e8c2ff1",
   "metadata": {},
   "outputs": [
    {
     "data": {
      "text/plain": [
       "'iam the 4th line .'"
      ]
     },
     "execution_count": 28,
     "metadata": {},
     "output_type": "execute_result"
    }
   ],
   "source": [
    "file.readline()"
   ]
  },
  {
   "cell_type": "code",
   "execution_count": 29,
   "id": "bff61368",
   "metadata": {},
   "outputs": [
    {
     "data": {
      "text/plain": [
       "0"
      ]
     },
     "execution_count": 29,
     "metadata": {},
     "output_type": "execute_result"
    }
   ],
   "source": [
    "file.seek(0)"
   ]
  },
  {
   "cell_type": "code",
   "execution_count": 30,
   "id": "eb604550",
   "metadata": {},
   "outputs": [
    {
     "name": "stdout",
     "output_type": "stream",
     "text": [
      "hai this is akhil reddy.\n",
      "\n",
      "iam the second line .\n",
      "\n",
      "iam the third line .\n",
      "\n",
      "iam the 4th line .\n"
     ]
    }
   ],
   "source": [
    "# you can use for loop to read all the lines\n",
    "for line in file:\n",
    "    print(line)"
   ]
  },
  {
   "cell_type": "code",
   "execution_count": 31,
   "id": "6d577328",
   "metadata": {},
   "outputs": [
    {
     "data": {
      "text/plain": [
       "0"
      ]
     },
     "execution_count": 31,
     "metadata": {},
     "output_type": "execute_result"
    }
   ],
   "source": [
    "file.seek(0)"
   ]
  },
  {
   "cell_type": "code",
   "execution_count": 32,
   "id": "3ca64136",
   "metadata": {},
   "outputs": [
    {
     "name": "stdout",
     "output_type": "stream",
     "text": [
      "['hai this is akhil reddy.\\n', 'iam the second line .\\n', 'iam the third line .\\n', 'iam the 4th line .']\n",
      "iam the 4th line .\n"
     ]
    }
   ],
   "source": [
    "#To read perticular lines\n",
    "list1 = file.readlines()\n",
    "print(list1)\n",
    "#to get last line\n",
    "print(list1[-1])"
   ]
  },
  {
   "cell_type": "markdown",
   "id": "a929635f",
   "metadata": {},
   "source": [
    "# Note : Don't forget to close the files\n",
    "##### to close the files we use close() method"
   ]
  },
  {
   "cell_type": "code",
   "execution_count": 33,
   "id": "5103cffa",
   "metadata": {},
   "outputs": [],
   "source": [
    "file.close()"
   ]
  },
  {
   "cell_type": "code",
   "execution_count": 34,
   "id": "53cd5a1a",
   "metadata": {},
   "outputs": [
    {
     "ename": "ValueError",
     "evalue": "I/O operation on closed file.",
     "output_type": "error",
     "traceback": [
      "\u001b[1;31m---------------------------------------------------------------------------\u001b[0m",
      "\u001b[1;31mValueError\u001b[0m                                Traceback (most recent call last)",
      "\u001b[1;32m~\\AppData\\Local\\Temp/ipykernel_10276/12491565.py\u001b[0m in \u001b[0;36m<module>\u001b[1;34m\u001b[0m\n\u001b[0;32m      1\u001b[0m \u001b[1;31m#You cannot do read write operations on closed files\u001b[0m\u001b[1;33m\u001b[0m\u001b[1;33m\u001b[0m\u001b[0m\n\u001b[1;32m----> 2\u001b[1;33m \u001b[0mfile\u001b[0m\u001b[1;33m.\u001b[0m\u001b[0mread\u001b[0m\u001b[1;33m(\u001b[0m\u001b[1;33m)\u001b[0m \u001b[1;31m#Error\u001b[0m\u001b[1;33m\u001b[0m\u001b[1;33m\u001b[0m\u001b[0m\n\u001b[0m",
      "\u001b[1;31mValueError\u001b[0m: I/O operation on closed file."
     ]
    }
   ],
   "source": [
    "#You cannot do read write operations on closed files\n",
    "file.read() #Error"
   ]
  },
  {
   "cell_type": "markdown",
   "id": "716fdb5a",
   "metadata": {},
   "source": [
    "# 2) To write to an existing file\n",
    "\n",
    "  we use write() method to write to a file \n",
    "  \n",
    "  use mode = 'a' - append\n",
    "  \n",
    "  use mode = 'w' - write\n",
    "  \n",
    "  \n",
    "# Appending\n",
    "# Ex1)"
   ]
  },
  {
   "cell_type": "code",
   "execution_count": 37,
   "id": "29f564af",
   "metadata": {},
   "outputs": [],
   "source": [
    "# appending one line\n",
    "file = open('MyFile.txt','a')\n",
    "file.write('I am appending sentence 5')\n",
    "file.close()"
   ]
  },
  {
   "cell_type": "code",
   "execution_count": 38,
   "id": "c149d0b0",
   "metadata": {},
   "outputs": [
    {
     "name": "stdout",
     "output_type": "stream",
     "text": [
      "hai this is akhil reddy.\n",
      "iam the second line .\n",
      "iam the third line .\n",
      "iam the 4th line .I am appending sentence 4I am appending sentence 5\n"
     ]
    }
   ],
   "source": [
    "# reading the file after modifying\n",
    "file = open('MyFile.txt')\n",
    "print(file.read())\n",
    "file.close()"
   ]
  },
  {
   "cell_type": "code",
   "execution_count": 39,
   "id": "28868670",
   "metadata": {},
   "outputs": [],
   "source": [
    "file = open('MyFile.txt','a')\n",
    "file.write('\\nI am appending sentence 4')\n",
    "file.close()"
   ]
  },
  {
   "cell_type": "code",
   "execution_count": 40,
   "id": "b13466c4",
   "metadata": {},
   "outputs": [
    {
     "name": "stdout",
     "output_type": "stream",
     "text": [
      "hai this is akhil reddy.\n",
      "iam the second line .\n",
      "iam the third line .\n",
      "iam the 4th line .I am appending sentence 4I am appending sentence 5\n",
      "I am appending sentence 4\n"
     ]
    }
   ],
   "source": [
    "file = open('MyFile.txt')\n",
    "print(file.read())\n",
    "file.close()"
   ]
  },
  {
   "cell_type": "markdown",
   "id": "cb70830d",
   "metadata": {},
   "source": [
    "# Writing to new file\n",
    "\n",
    "# Ex1) To an existing file"
   ]
  },
  {
   "cell_type": "code",
   "execution_count": 41,
   "id": "3fce54e1",
   "metadata": {},
   "outputs": [],
   "source": [
    "file = open('MyFile.txt','w')\n",
    "file.write('Hi I am a new sentence')\n",
    "file.close()"
   ]
  },
  {
   "cell_type": "code",
   "execution_count": 42,
   "id": "94cc8abc",
   "metadata": {},
   "outputs": [
    {
     "name": "stdout",
     "output_type": "stream",
     "text": [
      "Hi I am a new sentence\n"
     ]
    }
   ],
   "source": [
    "file = open('MyFile.txt')\n",
    "print(file.read())\n",
    "file.close()"
   ]
  },
  {
   "cell_type": "markdown",
   "id": "258376f8",
   "metadata": {},
   "source": [
    "# Ex2) Writing to a new file"
   ]
  },
  {
   "cell_type": "code",
   "execution_count": 44,
   "id": "8d7ee6ea",
   "metadata": {},
   "outputs": [],
   "source": [
    "file = open('MyFile11.txt','w')\n",
    "file.write('Hi I am a new sentence')\n",
    "file.close()"
   ]
  },
  {
   "cell_type": "markdown",
   "id": "820a5d35",
   "metadata": {},
   "source": [
    "# With statement\n",
    "##### When we use with statement for handling files, all the cleanup will be automatically done"
   ]
  },
  {
   "cell_type": "code",
   "execution_count": null,
   "id": "21ce80c8",
   "metadata": {},
   "outputs": [],
   "source": [
    "\"\"\"\n",
    "syntax\n",
    "\n",
    "with open(filename,mode) as file:\n",
    "    do read / write operations\n",
    "\"\"\""
   ]
  },
  {
   "cell_type": "code",
   "execution_count": 45,
   "id": "7d32d2ae",
   "metadata": {},
   "outputs": [
    {
     "name": "stdout",
     "output_type": "stream",
     "text": [
      "Hi I am a new sentence\n"
     ]
    }
   ],
   "source": [
    "#Ex1) reading the files using  with open\n",
    "with open('MyFile.txt') as file:\n",
    "    data = file.read()\n",
    "    print(data)"
   ]
  },
  {
   "cell_type": "code",
   "execution_count": 46,
   "id": "02455520",
   "metadata": {},
   "outputs": [
    {
     "ename": "ValueError",
     "evalue": "I/O operation on closed file.",
     "output_type": "error",
     "traceback": [
      "\u001b[1;31m---------------------------------------------------------------------------\u001b[0m",
      "\u001b[1;31mValueError\u001b[0m                                Traceback (most recent call last)",
      "\u001b[1;32m~\\AppData\\Local\\Temp/ipykernel_10276/3857556825.py\u001b[0m in \u001b[0;36m<module>\u001b[1;34m\u001b[0m\n\u001b[1;32m----> 1\u001b[1;33m \u001b[0mfile\u001b[0m\u001b[1;33m.\u001b[0m\u001b[0mread\u001b[0m\u001b[1;33m(\u001b[0m\u001b[1;33m)\u001b[0m \u001b[1;31m#Error because the file is already closed\u001b[0m\u001b[1;33m\u001b[0m\u001b[1;33m\u001b[0m\u001b[0m\n\u001b[0m",
      "\u001b[1;31mValueError\u001b[0m: I/O operation on closed file."
     ]
    }
   ],
   "source": [
    "file.read() #Error because the file is already closed"
   ]
  },
  {
   "cell_type": "code",
   "execution_count": 47,
   "id": "0a3cd3b2",
   "metadata": {},
   "outputs": [],
   "source": [
    "# to append\n",
    "with open('MyFile.txt','a') as file:\n",
    "    file.write('\\nI am sentence 2')"
   ]
  },
  {
   "cell_type": "code",
   "execution_count": 48,
   "id": "00b27add",
   "metadata": {},
   "outputs": [],
   "source": [
    "# to write\n",
    "with open('MyFile222.txt','w') as file:\n",
    "    file.write('I am a new file')"
   ]
  },
  {
   "cell_type": "code",
   "execution_count": null,
   "id": "4e8e8d63",
   "metadata": {},
   "outputs": [],
   "source": []
  }
 ],
 "metadata": {
  "kernelspec": {
   "display_name": "Python 3 (ipykernel)",
   "language": "python",
   "name": "python3"
  },
  "language_info": {
   "codemirror_mode": {
    "name": "ipython",
    "version": 3
   },
   "file_extension": ".py",
   "mimetype": "text/x-python",
   "name": "python",
   "nbconvert_exporter": "python",
   "pygments_lexer": "ipython3",
   "version": "3.9.7"
  }
 },
 "nbformat": 4,
 "nbformat_minor": 5
}
