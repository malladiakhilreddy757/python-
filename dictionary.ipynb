{
 "cells": [
  {
   "cell_type": "markdown",
   "id": "2a9144ff",
   "metadata": {},
   "source": [
    "# Dictionaries"
   ]
  },
  {
   "cell_type": "markdown",
   "id": "df7aba3b",
   "metadata": {},
   "source": [
    ". In Python dictionaries are written with curly brackets and they have keys and values seperated by commas."
   ]
  },
  {
   "cell_type": "markdown",
   "id": "7a2a4021",
   "metadata": {},
   "source": [
    "# Properties\n",
    "\n",
    " .Can store different data types\n",
    "    \n",
    ".Order doesnt matter here\n",
    "\n",
    " .Keys should be unique\n",
    "    \n",
    ". Mutable\n"
   ]
  },
  {
   "cell_type": "code",
   "execution_count": 1,
   "id": "43360d43",
   "metadata": {},
   "outputs": [
    {
     "data": {
      "text/plain": [
       "dict"
      ]
     },
     "execution_count": 1,
     "metadata": {},
     "output_type": "execute_result"
    }
   ],
   "source": [
    "# Example\n",
    "dict1 = {\n",
    "    \"Brand\":\"Bajaj\",\n",
    "    \"model\":\"Pulsar\",\n",
    "    \"year\":2015,\n",
    "    \"cost\":85000\n",
    "}\n",
    "dict1\n",
    "type(dict1)"
   ]
  },
  {
   "cell_type": "code",
   "execution_count": 2,
   "id": "005c9532",
   "metadata": {},
   "outputs": [
    {
     "name": "stdout",
     "output_type": "stream",
     "text": [
      "{'Brand': 'Bajaj', 'model': 'Pulsar', 'year': 2015, 'cost': 85000}\n"
     ]
    }
   ],
   "source": [
    "print(dict1)"
   ]
  },
  {
   "cell_type": "code",
   "execution_count": 3,
   "id": "6b2e74a3",
   "metadata": {},
   "outputs": [
    {
     "name": "stdout",
     "output_type": "stream",
     "text": [
      "4\n"
     ]
    }
   ],
   "source": [
    "print(len(dict1))"
   ]
  },
  {
   "cell_type": "markdown",
   "id": "bc247b26",
   "metadata": {},
   "source": [
    "# Accessing Items"
   ]
  },
  {
   "cell_type": "code",
   "execution_count": 4,
   "id": "377ba10b",
   "metadata": {},
   "outputs": [
    {
     "data": {
      "text/plain": [
       "'Pulsar'"
      ]
     },
     "execution_count": 4,
     "metadata": {},
     "output_type": "execute_result"
    }
   ],
   "source": [
    "x = dict1[\"model\"]\n",
    "x"
   ]
  },
  {
   "cell_type": "code",
   "execution_count": 5,
   "id": "15cd2a2f",
   "metadata": {},
   "outputs": [
    {
     "data": {
      "text/plain": [
       "'Bajaj'"
      ]
     },
     "execution_count": 5,
     "metadata": {},
     "output_type": "execute_result"
    }
   ],
   "source": [
    "x = dict1[\"Brand\"]\n",
    "x"
   ]
  },
  {
   "cell_type": "code",
   "execution_count": 6,
   "id": "6468409e",
   "metadata": {},
   "outputs": [
    {
     "data": {
      "text/plain": [
       "'Pulsar'"
      ]
     },
     "execution_count": 6,
     "metadata": {},
     "output_type": "execute_result"
    }
   ],
   "source": [
    "# 2) get(keyname)\n",
    "x = dict1.get(\"model\")\n",
    "x"
   ]
  },
  {
   "cell_type": "markdown",
   "id": "cc11f946",
   "metadata": {},
   "source": [
    "# Change/update Values"
   ]
  },
  {
   "cell_type": "code",
   "execution_count": 7,
   "id": "efe0772a",
   "metadata": {},
   "outputs": [
    {
     "data": {
      "text/plain": [
       "{'Brand': 'Bajaj', 'model': 'Pulsar', 'year': 2018, 'cost': 85000}"
      ]
     },
     "execution_count": 7,
     "metadata": {},
     "output_type": "execute_result"
    }
   ],
   "source": [
    "#update the year\n",
    "dict1[\"year\"] = 2018\n",
    "dict1"
   ]
  },
  {
   "cell_type": "code",
   "execution_count": 8,
   "id": "3915e580",
   "metadata": {},
   "outputs": [
    {
     "name": "stdout",
     "output_type": "stream",
     "text": [
      "['Brand', 'model', 'year', 'cost']\n"
     ]
    }
   ],
   "source": [
    "# keys() method to get the keys \n",
    "keys = list(dict1.keys())\n",
    "print(keys)"
   ]
  },
  {
   "cell_type": "code",
   "execution_count": 10,
   "id": "c5471fe9",
   "metadata": {},
   "outputs": [
    {
     "name": "stdout",
     "output_type": "stream",
     "text": [
      "['Bajaj', 'Pulsar', 2018, 85000]\n"
     ]
    }
   ],
   "source": [
    "values = list(dict1.values())\n",
    "print(values)"
   ]
  },
  {
   "cell_type": "code",
   "execution_count": 11,
   "id": "efef33bb",
   "metadata": {},
   "outputs": [
    {
     "data": {
      "text/plain": [
       "[('Brand', 'Bajaj'), ('model', 'Pulsar'), ('year', 2018), ('cost', 85000)]"
      ]
     },
     "execution_count": 11,
     "metadata": {},
     "output_type": "execute_result"
    }
   ],
   "source": [
    "# items() method to get both keys and values\n",
    "items = list(dict1.items())\n",
    "items"
   ]
  },
  {
   "cell_type": "markdown",
   "id": "905b2abe",
   "metadata": {},
   "source": [
    "# Adding items to an existing dictionary"
   ]
  },
  {
   "cell_type": "code",
   "execution_count": 12,
   "id": "063de57c",
   "metadata": {},
   "outputs": [
    {
     "data": {
      "text/plain": [
       "{'Brand': 'Bajaj',\n",
       " 'model': 'Pulsar',\n",
       " 'year': 2018,\n",
       " 'cost': 85000,\n",
       " 'color': 'Black'}"
      ]
     },
     "execution_count": 12,
     "metadata": {},
     "output_type": "execute_result"
    }
   ],
   "source": [
    "# add color of the bike\n",
    "dict1[\"color\"] = \"Black\"\n",
    "dict1"
   ]
  },
  {
   "cell_type": "code",
   "execution_count": 13,
   "id": "cfd09833",
   "metadata": {},
   "outputs": [
    {
     "data": {
      "text/plain": [
       "{'Brand': 'Bajaj',\n",
       " 'model': 'Pulsar',\n",
       " 'year': 2018,\n",
       " 'cost': 85000,\n",
       " 'color': 'Black',\n",
       " 'tyretype': 'ceat'}"
      ]
     },
     "execution_count": 13,
     "metadata": {},
     "output_type": "execute_result"
    }
   ],
   "source": [
    "# add color of the bike\n",
    "dict1[\"tyretype\"] = \"ceat\"\n",
    "dict1"
   ]
  },
  {
   "cell_type": "code",
   "execution_count": 14,
   "id": "5a23f92b",
   "metadata": {},
   "outputs": [
    {
     "name": "stdout",
     "output_type": "stream",
     "text": [
      "Pulsar\n",
      "{'Brand': 'Bajaj', 'year': 2018, 'cost': 85000, 'color': 'Black', 'tyretype': 'ceat'}\n"
     ]
    }
   ],
   "source": [
    "# 1) pop(key)\n",
    "rem = dict1.pop('model')\n",
    "print(rem)\n",
    "print(dict1)"
   ]
  },
  {
   "cell_type": "code",
   "execution_count": 15,
   "id": "61069d4d",
   "metadata": {},
   "outputs": [
    {
     "name": "stdout",
     "output_type": "stream",
     "text": [
      "{'Brand': 'Bajaj', 'year': 2018, 'cost': 85000, 'color': 'Black', 'tyretype': 'ceat'}\n",
      "{'Brand': 'Bajaj', 'year': 2018, 'cost': 85000, 'color': 'Black'}\n"
     ]
    }
   ],
   "source": [
    "# 2) popitem() removes the last inserted item\n",
    "print(dict1)\n",
    "dict1.popitem()\n",
    "print(dict1)"
   ]
  },
  {
   "cell_type": "code",
   "execution_count": 16,
   "id": "3aeb18c5",
   "metadata": {},
   "outputs": [],
   "source": [
    "# 3) del keyword\n",
    "del dict1['year']"
   ]
  },
  {
   "cell_type": "code",
   "execution_count": 17,
   "id": "06e352c5",
   "metadata": {},
   "outputs": [
    {
     "data": {
      "text/plain": [
       "{'Brand': 'Bajaj', 'cost': 85000, 'color': 'Black'}"
      ]
     },
     "execution_count": 17,
     "metadata": {},
     "output_type": "execute_result"
    }
   ],
   "source": [
    "dict1"
   ]
  },
  {
   "cell_type": "code",
   "execution_count": 18,
   "id": "fd7c6f19",
   "metadata": {},
   "outputs": [],
   "source": [
    "# 4) clear() method\n",
    "dict1.clear()"
   ]
  },
  {
   "cell_type": "code",
   "execution_count": 19,
   "id": "d1fe6455",
   "metadata": {},
   "outputs": [
    {
     "data": {
      "text/plain": [
       "{}"
      ]
     },
     "execution_count": 19,
     "metadata": {},
     "output_type": "execute_result"
    }
   ],
   "source": [
    "dict1"
   ]
  },
  {
   "cell_type": "markdown",
   "id": "01888eca",
   "metadata": {},
   "source": [
    "# Copy a dictionary"
   ]
  },
  {
   "cell_type": "code",
   "execution_count": 20,
   "id": "213c9c1b",
   "metadata": {},
   "outputs": [
    {
     "name": "stdout",
     "output_type": "stream",
     "text": [
      "{'brand': 'Bajaj', 'model': 'Pulsar', 'year': 2015, 'cost': 85000}\n"
     ]
    }
   ],
   "source": [
    "# 1) copy() method\n",
    "dict1 = {\n",
    "  \"brand\": \"Bajaj\",\n",
    "  \"model\": \"Pulsar\",\n",
    "  \"year\": 2015,\n",
    "  \"cost\": 85000\n",
    "}\n",
    "mydict = dict1.copy()\n",
    "print(mydict)"
   ]
  },
  {
   "cell_type": "markdown",
   "id": "07c979bf",
   "metadata": {},
   "source": [
    "# Nested Dictionaries"
   ]
  },
  {
   "cell_type": "code",
   "execution_count": 21,
   "id": "3cfec216",
   "metadata": {},
   "outputs": [],
   "source": [
    "child1 = { \n",
    "    \"name\" : \"akhil\",\n",
    "    \"age\" : \"23\"\n",
    "}\n",
    "child2 = {\n",
    "    \"name \" : \"anil\",\n",
    "    \"age\" : \"21\"\n",
    "    \n",
    "}\n",
    "\n",
    "\n",
    "myfamily = {\n",
    "    \"child1\" : child1,\n",
    "    \"child2\" : child2\n",
    "    \n",
    "}"
   ]
  },
  {
   "cell_type": "code",
   "execution_count": 22,
   "id": "5f9ca866",
   "metadata": {},
   "outputs": [
    {
     "data": {
      "text/plain": [
       "{'child1': {'name': 'akhil', 'age': '23'},\n",
       " 'child2': {'name ': 'anil', 'age': '21'}}"
      ]
     },
     "execution_count": 22,
     "metadata": {},
     "output_type": "execute_result"
    }
   ],
   "source": [
    "myfamily"
   ]
  },
  {
   "cell_type": "code",
   "execution_count": 30,
   "id": "45ffba83",
   "metadata": {},
   "outputs": [],
   "source": [
    "myfamily = {\n",
    "  \"child1\" : { \n",
    "    \"name\" : \"akhil\",\n",
    "    \"age\"  :\"23\"\n",
    "   },\n",
    "    \n",
    "    \"child2\" : {\n",
    "        \"name\" : \"anil\",\n",
    "        \"age\" : \"21\"\n",
    "    }\n",
    "}\n",
    "\n"
   ]
  },
  {
   "cell_type": "code",
   "execution_count": 31,
   "id": "7898dbf0",
   "metadata": {},
   "outputs": [
    {
     "data": {
      "text/plain": [
       "{'child1': {'name': 'akhil', 'age': '23'},\n",
       " 'child2': {'name': 'anil', 'age': '21'}}"
      ]
     },
     "execution_count": 31,
     "metadata": {},
     "output_type": "execute_result"
    }
   ],
   "source": [
    "myfamily"
   ]
  },
  {
   "cell_type": "markdown",
   "id": "de5f0251",
   "metadata": {},
   "source": [
    "# Exercises on Dictionaries"
   ]
  },
  {
   "cell_type": "code",
   "execution_count": 39,
   "id": "3bbb04d9",
   "metadata": {},
   "outputs": [
    {
     "data": {
      "text/plain": [
       "{'child1': {'name': 'akhil',\n",
       "  'age': '23',\n",
       "  'hobbies': ['Music', 'Cricket', 'TV']},\n",
       " 'child2': {'name': 'anil', 'age': '21'}}"
      ]
     },
     "execution_count": 39,
     "metadata": {},
     "output_type": "execute_result"
    }
   ],
   "source": [
    "myfamily = {\n",
    "  \"child1\" : { \n",
    "    \"name\" : \"akhil\",\n",
    "    \"age\"  :\"23\",\n",
    "      \"hobbies\" : [\"Music\",\"Cricket\",\"TV\"]\n",
    "   },\n",
    "    \n",
    "    \"child2\" : {\n",
    "        \"name\" : \"anil\",\n",
    "        \"age\" : \"21\"\n",
    "    }\n",
    "}\n",
    "myfamily\n"
   ]
  },
  {
   "cell_type": "code",
   "execution_count": 40,
   "id": "227a1bcf",
   "metadata": {},
   "outputs": [
    {
     "data": {
      "text/plain": [
       "'akhil'"
      ]
     },
     "execution_count": 40,
     "metadata": {},
     "output_type": "execute_result"
    }
   ],
   "source": [
    "#accessing \"akhil\"\n",
    "myfamily[\"child1\"][\"name\"]\n"
   ]
  },
  {
   "cell_type": "code",
   "execution_count": 41,
   "id": "1c51351c",
   "metadata": {},
   "outputs": [
    {
     "data": {
      "text/plain": [
       "'23'"
      ]
     },
     "execution_count": 41,
     "metadata": {},
     "output_type": "execute_result"
    }
   ],
   "source": [
    "#accessing 23\n",
    "myfamily[\"child1\"][\"age\"]"
   ]
  },
  {
   "cell_type": "code",
   "execution_count": 42,
   "id": "c1791342",
   "metadata": {},
   "outputs": [
    {
     "data": {
      "text/plain": [
       "'anil'"
      ]
     },
     "execution_count": 42,
     "metadata": {},
     "output_type": "execute_result"
    }
   ],
   "source": [
    "#accessing \"anil\"\n",
    "myfamily[\"child2\"][\"name\"]"
   ]
  },
  {
   "cell_type": "code",
   "execution_count": 43,
   "id": "bd4ccd7b",
   "metadata": {},
   "outputs": [
    {
     "data": {
      "text/plain": [
       "'21'"
      ]
     },
     "execution_count": 43,
     "metadata": {},
     "output_type": "execute_result"
    }
   ],
   "source": [
    "#accessing 21\n",
    "myfamily[\"child2\"][\"age\"]"
   ]
  },
  {
   "cell_type": "code",
   "execution_count": 44,
   "id": "416f5064",
   "metadata": {},
   "outputs": [
    {
     "data": {
      "text/plain": [
       "{'child1': {'name': 'akhil',\n",
       "  'age': '23',\n",
       "  'hobbies': ['Music', 'Cricket', 'TV']},\n",
       " 'child2': {'name': 'anil', 'age': '21'}}"
      ]
     },
     "execution_count": 44,
     "metadata": {},
     "output_type": "execute_result"
    }
   ],
   "source": [
    "myfamily"
   ]
  },
  {
   "cell_type": "code",
   "execution_count": 45,
   "id": "7d88c263",
   "metadata": {},
   "outputs": [
    {
     "data": {
      "text/plain": [
       "'Cricket'"
      ]
     },
     "execution_count": 45,
     "metadata": {},
     "output_type": "execute_result"
    }
   ],
   "source": [
    "#accessing 'Cricket'\n",
    "myfamily['child1']['hobbies'][1]"
   ]
  },
  {
   "cell_type": "code",
   "execution_count": 46,
   "id": "d1891737",
   "metadata": {},
   "outputs": [
    {
     "data": {
      "text/plain": [
       "['Cricket', 'TV']"
      ]
     },
     "execution_count": 46,
     "metadata": {},
     "output_type": "execute_result"
    }
   ],
   "source": [
    "# get ['Cricket','TV']\n",
    "myfamily['child1']['hobbies'][1:]"
   ]
  },
  {
   "cell_type": "code",
   "execution_count": 47,
   "id": "81fb530a",
   "metadata": {},
   "outputs": [
    {
     "data": {
      "text/plain": [
       "['TV', 'Cricket', 'Music']"
      ]
     },
     "execution_count": 47,
     "metadata": {},
     "output_type": "execute_result"
    }
   ],
   "source": [
    "#get ['Music','TV']\n",
    "myfamily['child1']['hobbies'][::-1]"
   ]
  },
  {
   "cell_type": "markdown",
   "id": "dd902e6f",
   "metadata": {},
   "source": [
    "# Task-5"
   ]
  },
  {
   "cell_type": "code",
   "execution_count": 50,
   "id": "2d70ef0f",
   "metadata": {},
   "outputs": [],
   "source": [
    "dict1 = {\n",
    "    \"april batch\" : {\n",
    "        \"students\" : {\n",
    "            \"name\" : \"akhil\",\n",
    "            \"marks\" :{\n",
    "                \"python\" : 70,\n",
    "                \"mock test\" : 80\n",
    "            }\n",
    "        }\n",
    "    }\n",
    "}"
   ]
  },
  {
   "cell_type": "markdown",
   "id": "fb67e49e",
   "metadata": {},
   "source": [
    "From the above dictionary, do the following tasks\n",
    "\n",
    "access \"Mike\"\n",
    "access 80\n",
    "change \"Mike\" to \"Your name\"\n",
    "add ML = 80 and DL = 80 inside marks"
   ]
  },
  {
   "cell_type": "code",
   "execution_count": null,
   "id": "d6213bb5",
   "metadata": {},
   "outputs": [],
   "source": []
  }
 ],
 "metadata": {
  "kernelspec": {
   "display_name": "Python 3 (ipykernel)",
   "language": "python",
   "name": "python3"
  },
  "language_info": {
   "codemirror_mode": {
    "name": "ipython",
    "version": 3
   },
   "file_extension": ".py",
   "mimetype": "text/x-python",
   "name": "python",
   "nbconvert_exporter": "python",
   "pygments_lexer": "ipython3",
   "version": "3.9.7"
  }
 },
 "nbformat": 4,
 "nbformat_minor": 5
}
