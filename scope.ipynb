{
 "cells": [
  {
   "cell_type": "markdown",
   "id": "3c303816",
   "metadata": {},
   "source": [
    "# SCOPE\n",
    "#### A variable is only available from inside the region it is created. This is called scope.\n",
    "\n",
    "# Local Scope\n",
    "#### A variable created inside a function belongs to the local scope of that function, and can only be used inside that function."
   ]
  },
  {
   "cell_type": "code",
   "execution_count": 1,
   "id": "7b83b422",
   "metadata": {},
   "outputs": [
    {
     "ename": "NameError",
     "evalue": "name 'x' is not defined",
     "output_type": "error",
     "traceback": [
      "\u001b[1;31m---------------------------------------------------------------------------\u001b[0m",
      "\u001b[1;31mNameError\u001b[0m                                 Traceback (most recent call last)",
      "\u001b[1;32m~\\AppData\\Local\\Temp/ipykernel_8432/3589492804.py\u001b[0m in \u001b[0;36m<module>\u001b[1;34m\u001b[0m\n\u001b[0;32m      6\u001b[0m \u001b[1;33m\u001b[0m\u001b[0m\n\u001b[0;32m      7\u001b[0m \u001b[1;31m#outside the function\u001b[0m\u001b[1;33m\u001b[0m\u001b[1;33m\u001b[0m\u001b[0m\n\u001b[1;32m----> 8\u001b[1;33m \u001b[0mprint\u001b[0m\u001b[1;33m(\u001b[0m\u001b[0mx\u001b[0m\u001b[1;33m)\u001b[0m \u001b[1;31m# Not accessable , ERROR\u001b[0m\u001b[1;33m\u001b[0m\u001b[1;33m\u001b[0m\u001b[0m\n\u001b[0m",
      "\u001b[1;31mNameError\u001b[0m: name 'x' is not defined"
     ]
    }
   ],
   "source": [
    "def func1():\n",
    "    x = 10\n",
    "    print(x)\n",
    "\n",
    "# func1()\n",
    "\n",
    "#outside the function\n",
    "print(x) # Not accessable , ERROR"
   ]
  },
  {
   "cell_type": "markdown",
   "id": "0dd2a44e",
   "metadata": {},
   "source": [
    "# Enclosing scope\n",
    "\n",
    " inner functions can have access to the outer or enclosing function's variables"
   ]
  },
  {
   "cell_type": "code",
   "execution_count": 2,
   "id": "9307dc13",
   "metadata": {},
   "outputs": [
    {
     "name": "stdout",
     "output_type": "stream",
     "text": [
      "Outer function  300\n",
      "Inner function  300\n"
     ]
    }
   ],
   "source": [
    "def outer_func():\n",
    "    x = 300\n",
    "    print('Outer function ',x)\n",
    "    def inner_fun():\n",
    "        print('Inner function ',x) \n",
    "    \n",
    "    inner_fun()\n",
    "\n",
    "outer_func()"
   ]
  },
  {
   "cell_type": "markdown",
   "id": "c617dacf",
   "metadata": {},
   "source": [
    "# Global Scope\n",
    " A variable created in the main body of the Python code is a global variable and belongs to the global scope. Global variables are available from within any scope, global and local."
   ]
  },
  {
   "cell_type": "code",
   "execution_count": 3,
   "id": "e95a2934",
   "metadata": {},
   "outputs": [
    {
     "name": "stdout",
     "output_type": "stream",
     "text": [
      "Global :  300\n",
      "my_func :  300\n",
      "my_inner_fun :  300\n"
     ]
    }
   ],
   "source": [
    "x = 300\n",
    "\n",
    "def my_func():\n",
    "    \n",
    "    print('my_func : ',x)\n",
    "    \n",
    "    def my_inner_fun():\n",
    "        print('my_inner_fun : ',x)\n",
    "        \n",
    "    my_inner_fun()\n",
    "    \n",
    "print('Global : ',x)\n",
    "\n",
    "my_func()"
   ]
  },
  {
   "cell_type": "markdown",
   "id": "6d432a84",
   "metadata": {},
   "source": [
    "# How to change global variables inside functions"
   ]
  },
  {
   "cell_type": "code",
   "execution_count": 4,
   "id": "bac0c76d",
   "metadata": {},
   "outputs": [
    {
     "name": "stdout",
     "output_type": "stream",
     "text": [
      "local  200\n",
      "GLobal 300\n"
     ]
    }
   ],
   "source": [
    "x = 300\n",
    "\n",
    "def my_fun():\n",
    "    x = 200\n",
    "    print('local ',x)\n",
    "\n",
    "my_fun()\n",
    "print('GLobal',x)"
   ]
  },
  {
   "cell_type": "markdown",
   "id": "75cf5360",
   "metadata": {},
   "source": [
    "# Global Keyword"
   ]
  },
  {
   "cell_type": "code",
   "execution_count": 5,
   "id": "5942584f",
   "metadata": {},
   "outputs": [
    {
     "name": "stdout",
     "output_type": "stream",
     "text": [
      "local  600\n",
      "GLobal 100\n"
     ]
    }
   ],
   "source": [
    "x1 = 100\n",
    "\n",
    "def my_fun():\n",
    "    global x\n",
    "    x = 600\n",
    "    print('local ',x)\n",
    "    \n",
    "my_fun()\n",
    "\n",
    "print('GLobal',x1)"
   ]
  },
  {
   "cell_type": "markdown",
   "id": "b9961564",
   "metadata": {},
   "source": [
    "# Order of execution ---> Local,Enclosing,Global"
   ]
  },
  {
   "cell_type": "code",
   "execution_count": 6,
   "id": "adb14e4c",
   "metadata": {},
   "outputs": [
    {
     "name": "stdout",
     "output_type": "stream",
     "text": [
      "Value of y global =  2000\n",
      "Value of y in func1=  200\n",
      "Value of y in func2=  20\n",
      "Value of y =  2\n"
     ]
    }
   ],
   "source": [
    "y = 2000\n",
    "\n",
    "def func1():\n",
    "    y = 200\n",
    "    print('Value of y in func1= ', y )\n",
    "    \n",
    "    def func2():\n",
    "        y = 20\n",
    "        print('Value of y in func2= ', y )\n",
    "        \n",
    "        def func3():\n",
    "            y = 2\n",
    "            print('Value of y = ', y )\n",
    "        \n",
    "        func3()\n",
    "    \n",
    "    func2()\n",
    "    \n",
    "print('Value of y global = ', y )\n",
    "func1()"
   ]
  },
  {
   "cell_type": "code",
   "execution_count": null,
   "id": "feced086",
   "metadata": {},
   "outputs": [],
   "source": []
  }
 ],
 "metadata": {
  "kernelspec": {
   "display_name": "Python 3 (ipykernel)",
   "language": "python",
   "name": "python3"
  },
  "language_info": {
   "codemirror_mode": {
    "name": "ipython",
    "version": 3
   },
   "file_extension": ".py",
   "mimetype": "text/x-python",
   "name": "python",
   "nbconvert_exporter": "python",
   "pygments_lexer": "ipython3",
   "version": "3.9.7"
  }
 },
 "nbformat": 4,
 "nbformat_minor": 5
}
