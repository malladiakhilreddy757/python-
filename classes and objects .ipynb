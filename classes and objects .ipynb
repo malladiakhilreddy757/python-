{
 "cells": [
  {
   "cell_type": "markdown",
   "id": "adceb64a",
   "metadata": {},
   "source": [
    "# Classes\n",
    "\n",
    "##### Like every other Object Oriented Programming language Python also supports classes.\n",
    "\n",
    "##### Class is like a blueprint or template for creating objects.\n",
    "\n",
    "##### class keyword is used to create classes in python"
   ]
  },
  {
   "cell_type": "code",
   "execution_count": null,
   "id": "b80ee990",
   "metadata": {},
   "outputs": [],
   "source": [
    "\"\"\"\n",
    "syntax ---->\n",
    "\n",
    "class NameOfTheClass:\n",
    "    .......\n",
    "\"\"\""
   ]
  },
  {
   "cell_type": "code",
   "execution_count": 1,
   "id": "35b3e65e",
   "metadata": {},
   "outputs": [],
   "source": [
    "#Ex1) Consider the Dog example\n",
    "class Dog:\n",
    "    pass"
   ]
  },
  {
   "cell_type": "markdown",
   "id": "f809faf2",
   "metadata": {},
   "source": [
    "# Object\n",
    "\n",
    "##### An object (instance) is an instantiation of a class\n",
    "\n",
    "##### An object has two characteristics:\n",
    "\n",
    "  1) attributes / properties / variable\n",
    "  Ex : breed,size,age,color,etc\n",
    "    \n",
    "  2) behavior / actions / methods\n",
    "  Ex : bark(),eat(),sleep() etc"
   ]
  },
  {
   "cell_type": "code",
   "execution_count": 2,
   "id": "f8e83c36",
   "metadata": {},
   "outputs": [],
   "source": [
    "#Creating the object\n",
    "dog_obj = Dog()"
   ]
  },
  {
   "cell_type": "markdown",
   "id": "17caff74",
   "metadata": {},
   "source": [
    "# _ init _() method\n",
    "\n",
    " All classes have a function called _ init _(), which is always executed when the class is being instantiated.\n",
    "    \n",
    " It is run as soon as an object of a class is instantiated.\n",
    "\n",
    " use this function to assign values to object properties"
   ]
  },
  {
   "cell_type": "code",
   "execution_count": 3,
   "id": "8af01d75",
   "metadata": {},
   "outputs": [],
   "source": [
    "class Dog:\n",
    "    def __init__(self):\n",
    "        print('Inside init method')"
   ]
  },
  {
   "cell_type": "code",
   "execution_count": 4,
   "id": "d7369d45",
   "metadata": {},
   "outputs": [
    {
     "name": "stdout",
     "output_type": "stream",
     "text": [
      "Inside init method\n"
     ]
    }
   ],
   "source": [
    "dog_obj = Dog()"
   ]
  },
  {
   "cell_type": "markdown",
   "id": "c3f3cc6e",
   "metadata": {},
   "source": [
    "# self parameter\n",
    "\n",
    "Class methods must have an extra first parameter in method definition. We do not give a value for this parameter when we call the method, Python provides it\n",
    "\n",
    "The self parameter is a reference to the current instance of the class\n",
    "\n",
    "It can be used to access variables that belongs to the class."
   ]
  },
  {
   "cell_type": "code",
   "execution_count": 6,
   "id": "5ac7e987",
   "metadata": {},
   "outputs": [],
   "source": [
    "class Dog:\n",
    "    def __init__(self,breed,size,age):\n",
    "        self.breed = breed\n",
    "        self.size = size\n",
    "        self.age = age"
   ]
  },
  {
   "cell_type": "code",
   "execution_count": 7,
   "id": "817090dc",
   "metadata": {},
   "outputs": [],
   "source": [
    "dog1 = Dog('Pug','small',1)"
   ]
  },
  {
   "cell_type": "code",
   "execution_count": 8,
   "id": "293b225d",
   "metadata": {},
   "outputs": [
    {
     "data": {
      "text/plain": [
       "1"
      ]
     },
     "execution_count": 8,
     "metadata": {},
     "output_type": "execute_result"
    }
   ],
   "source": [
    "dog1.age"
   ]
  },
  {
   "cell_type": "code",
   "execution_count": 9,
   "id": "9975a145",
   "metadata": {},
   "outputs": [
    {
     "data": {
      "text/plain": [
       "'Pug'"
      ]
     },
     "execution_count": 9,
     "metadata": {},
     "output_type": "execute_result"
    }
   ],
   "source": [
    "dog1.breed"
   ]
  },
  {
   "cell_type": "code",
   "execution_count": 10,
   "id": "afb533bb",
   "metadata": {},
   "outputs": [
    {
     "data": {
      "text/plain": [
       "'small'"
      ]
     },
     "execution_count": 10,
     "metadata": {},
     "output_type": "execute_result"
    }
   ],
   "source": [
    "dog1.size"
   ]
  },
  {
   "cell_type": "code",
   "execution_count": 11,
   "id": "857bd3e4",
   "metadata": {},
   "outputs": [],
   "source": [
    "dog2 = Dog('Bulldog','medium',2)"
   ]
  },
  {
   "cell_type": "code",
   "execution_count": 12,
   "id": "2cced1ca",
   "metadata": {},
   "outputs": [
    {
     "data": {
      "text/plain": [
       "2"
      ]
     },
     "execution_count": 12,
     "metadata": {},
     "output_type": "execute_result"
    }
   ],
   "source": [
    "dog2.age"
   ]
  },
  {
   "cell_type": "code",
   "execution_count": 13,
   "id": "d2284dd7",
   "metadata": {},
   "outputs": [
    {
     "data": {
      "text/plain": [
       "'Bulldog'"
      ]
     },
     "execution_count": 13,
     "metadata": {},
     "output_type": "execute_result"
    }
   ],
   "source": [
    "dog2.breed"
   ]
  },
  {
   "cell_type": "code",
   "execution_count": 14,
   "id": "84fbb945",
   "metadata": {},
   "outputs": [
    {
     "data": {
      "text/plain": [
       "'medium'"
      ]
     },
     "execution_count": 14,
     "metadata": {},
     "output_type": "execute_result"
    }
   ],
   "source": [
    "dog2.size"
   ]
  },
  {
   "cell_type": "markdown",
   "id": "36c38c97",
   "metadata": {},
   "source": [
    "# class variables and instance variables\n",
    "\n",
    "  class variables are the variables that are common to all the objects\n",
    "\n",
    "  instance variables are the variables that are specific to the perticular objects"
   ]
  },
  {
   "cell_type": "code",
   "execution_count": 15,
   "id": "b012cb14",
   "metadata": {},
   "outputs": [],
   "source": [
    "class Dog:\n",
    "    #class variables\n",
    "    species = 'mammal'\n",
    "    city = 'Bengaluru' #Assumed for this example\n",
    "    \n",
    "    def __init__(self,breed,size,age):\n",
    "        #instance variables\n",
    "        self.breed = breed\n",
    "        self.size = size\n",
    "        self.age = age"
   ]
  },
  {
   "cell_type": "code",
   "execution_count": 16,
   "id": "4d0852a7",
   "metadata": {},
   "outputs": [],
   "source": [
    "dog1 = Dog('pug','small',1)\n",
    "dog2 = Dog('bulldog','medium',2)"
   ]
  },
  {
   "cell_type": "code",
   "execution_count": 17,
   "id": "bc173963",
   "metadata": {},
   "outputs": [
    {
     "data": {
      "text/plain": [
       "'mammal'"
      ]
     },
     "execution_count": 17,
     "metadata": {},
     "output_type": "execute_result"
    }
   ],
   "source": [
    "dog1.species"
   ]
  },
  {
   "cell_type": "code",
   "execution_count": 18,
   "id": "cb6e6255",
   "metadata": {},
   "outputs": [
    {
     "data": {
      "text/plain": [
       "'mammal'"
      ]
     },
     "execution_count": 18,
     "metadata": {},
     "output_type": "execute_result"
    }
   ],
   "source": [
    "dog2.species"
   ]
  },
  {
   "cell_type": "code",
   "execution_count": 19,
   "id": "144d0237",
   "metadata": {},
   "outputs": [
    {
     "data": {
      "text/plain": [
       "'Bengaluru'"
      ]
     },
     "execution_count": 19,
     "metadata": {},
     "output_type": "execute_result"
    }
   ],
   "source": [
    "dog1.city"
   ]
  },
  {
   "cell_type": "code",
   "execution_count": 20,
   "id": "646f581e",
   "metadata": {},
   "outputs": [
    {
     "data": {
      "text/plain": [
       "'Bengaluru'"
      ]
     },
     "execution_count": 20,
     "metadata": {},
     "output_type": "execute_result"
    }
   ],
   "source": [
    "dog2.city"
   ]
  },
  {
   "cell_type": "code",
   "execution_count": 21,
   "id": "80004264",
   "metadata": {},
   "outputs": [
    {
     "data": {
      "text/plain": [
       "'pug'"
      ]
     },
     "execution_count": 21,
     "metadata": {},
     "output_type": "execute_result"
    }
   ],
   "source": [
    "dog1.breed"
   ]
  },
  {
   "cell_type": "code",
   "execution_count": 22,
   "id": "c840dbe8",
   "metadata": {},
   "outputs": [
    {
     "data": {
      "text/plain": [
       "'bulldog'"
      ]
     },
     "execution_count": 22,
     "metadata": {},
     "output_type": "execute_result"
    }
   ],
   "source": [
    "dog2.breed"
   ]
  },
  {
   "cell_type": "code",
   "execution_count": null,
   "id": "28aeb3a6",
   "metadata": {},
   "outputs": [],
   "source": []
  },
  {
   "cell_type": "markdown",
   "id": "7b437c5b",
   "metadata": {},
   "source": [
    "# Note: you can access the class variables by using the classname itself ie.,\n",
    "\n",
    "# ClassName.class_variable"
   ]
  },
  {
   "cell_type": "code",
   "execution_count": 23,
   "id": "084c39b8",
   "metadata": {},
   "outputs": [
    {
     "data": {
      "text/plain": [
       "'mammal'"
      ]
     },
     "execution_count": 23,
     "metadata": {},
     "output_type": "execute_result"
    }
   ],
   "source": [
    "Dog.species"
   ]
  },
  {
   "cell_type": "code",
   "execution_count": 24,
   "id": "40ba198d",
   "metadata": {},
   "outputs": [
    {
     "data": {
      "text/plain": [
       "'Bengaluru'"
      ]
     },
     "execution_count": 24,
     "metadata": {},
     "output_type": "execute_result"
    }
   ],
   "source": [
    "Dog.city"
   ]
  },
  {
   "cell_type": "markdown",
   "id": "92494329",
   "metadata": {},
   "source": [
    "# Methods"
   ]
  },
  {
   "cell_type": "code",
   "execution_count": 25,
   "id": "60429515",
   "metadata": {},
   "outputs": [],
   "source": [
    "class Dog:\n",
    "    #class variables\n",
    "    species = 'mammal'\n",
    "    \n",
    "    def __init__(self,breed,size,age):\n",
    "        #instance variables\n",
    "        self.breed = breed\n",
    "        self.size = size\n",
    "        self.age = age\n",
    "    \n",
    "    #without any parameters\n",
    "    def bark(self):\n",
    "        print('Boww Boww. I am '+self.breed)\n",
    "        \n",
    "    #with one parameter\n",
    "    def eat(self,food):\n",
    "        print('I will eat '+food)\n",
    "        \n",
    "    def sleep(self,hours = 1):\n",
    "        print(\"HI i am {} and I sleep for {} hours\".format(self.breed,hours))"
   ]
  },
  {
   "cell_type": "code",
   "execution_count": 26,
   "id": "ded08882",
   "metadata": {},
   "outputs": [],
   "source": [
    "dog1 = Dog('pug','small',1)"
   ]
  },
  {
   "cell_type": "code",
   "execution_count": 27,
   "id": "fe40d106",
   "metadata": {},
   "outputs": [
    {
     "name": "stdout",
     "output_type": "stream",
     "text": [
      "Boww Boww. I am pug\n"
     ]
    }
   ],
   "source": [
    "dog1.bark()"
   ]
  },
  {
   "cell_type": "code",
   "execution_count": 28,
   "id": "341c3455",
   "metadata": {},
   "outputs": [
    {
     "name": "stdout",
     "output_type": "stream",
     "text": [
      "I will eat pedigree\n"
     ]
    }
   ],
   "source": [
    "dog1.eat('pedigree')"
   ]
  },
  {
   "cell_type": "code",
   "execution_count": 29,
   "id": "c51f7710",
   "metadata": {},
   "outputs": [
    {
     "name": "stdout",
     "output_type": "stream",
     "text": [
      "HI i am pug and I sleep for 4 hours\n"
     ]
    }
   ],
   "source": [
    "dog1.sleep(4)"
   ]
  },
  {
   "cell_type": "code",
   "execution_count": 30,
   "id": "1b79eb40",
   "metadata": {},
   "outputs": [],
   "source": [
    "dog2 = Dog('bulldog','medium',2)"
   ]
  },
  {
   "cell_type": "code",
   "execution_count": 31,
   "id": "af82b68f",
   "metadata": {},
   "outputs": [
    {
     "name": "stdout",
     "output_type": "stream",
     "text": [
      "Boww Boww. I am bulldog\n"
     ]
    }
   ],
   "source": [
    "dog2.bark()"
   ]
  },
  {
   "cell_type": "code",
   "execution_count": 32,
   "id": "8dd80002",
   "metadata": {},
   "outputs": [
    {
     "name": "stdout",
     "output_type": "stream",
     "text": [
      "I will eat chicken\n"
     ]
    }
   ],
   "source": [
    "dog2.eat('chicken')"
   ]
  },
  {
   "cell_type": "code",
   "execution_count": 33,
   "id": "ae9ae53c",
   "metadata": {},
   "outputs": [
    {
     "name": "stdout",
     "output_type": "stream",
     "text": [
      "HI i am bulldog and I sleep for 10 hours\n"
     ]
    }
   ],
   "source": [
    "dog2.sleep(10)"
   ]
  },
  {
   "cell_type": "markdown",
   "id": "fb8c1d96",
   "metadata": {},
   "source": [
    "# Circle"
   ]
  },
  {
   "cell_type": "code",
   "execution_count": 34,
   "id": "a5afa34c",
   "metadata": {},
   "outputs": [],
   "source": [
    "class CircleClass:\n",
    "    #class variable\n",
    "    pie = 3.14\n",
    "    \n",
    "    def __init__(self,radius):\n",
    "        self.radius = radius\n",
    "        \n",
    "    def get_area(self):\n",
    "        return self.pie * self.radius * self.radius\n",
    "    \n",
    "    def get_circumference(self):\n",
    "        return 2 * self.pie * self.radius"
   ]
  },
  {
   "cell_type": "code",
   "execution_count": 35,
   "id": "0b3ebdc9",
   "metadata": {},
   "outputs": [],
   "source": [
    "cir1 = CircleClass(5)\n",
    "cir2 = CircleClass(10)\n",
    "cir3 = CircleClass(15)"
   ]
  },
  {
   "cell_type": "code",
   "execution_count": 36,
   "id": "19735d53",
   "metadata": {},
   "outputs": [
    {
     "data": {
      "text/plain": [
       "78.5"
      ]
     },
     "execution_count": 36,
     "metadata": {},
     "output_type": "execute_result"
    }
   ],
   "source": [
    "cir1.get_area()"
   ]
  },
  {
   "cell_type": "code",
   "execution_count": 37,
   "id": "f15e7820",
   "metadata": {},
   "outputs": [
    {
     "data": {
      "text/plain": [
       "314.0"
      ]
     },
     "execution_count": 37,
     "metadata": {},
     "output_type": "execute_result"
    }
   ],
   "source": [
    "cir2.get_area()"
   ]
  },
  {
   "cell_type": "code",
   "execution_count": 38,
   "id": "d0f987ce",
   "metadata": {},
   "outputs": [
    {
     "data": {
      "text/plain": [
       "314.0"
      ]
     },
     "execution_count": 38,
     "metadata": {},
     "output_type": "execute_result"
    }
   ],
   "source": [
    "cir2.get_area()"
   ]
  },
  {
   "cell_type": "code",
   "execution_count": 39,
   "id": "141ddeb4",
   "metadata": {},
   "outputs": [
    {
     "data": {
      "text/plain": [
       "31.400000000000002"
      ]
     },
     "execution_count": 39,
     "metadata": {},
     "output_type": "execute_result"
    }
   ],
   "source": [
    "cir1.get_circumference()"
   ]
  },
  {
   "cell_type": "code",
   "execution_count": 40,
   "id": "beb70108",
   "metadata": {},
   "outputs": [
    {
     "data": {
      "text/plain": [
       "62.800000000000004"
      ]
     },
     "execution_count": 40,
     "metadata": {},
     "output_type": "execute_result"
    }
   ],
   "source": [
    "cir2.get_circumference()"
   ]
  },
  {
   "cell_type": "code",
   "execution_count": 41,
   "id": "29e3b8e9",
   "metadata": {},
   "outputs": [
    {
     "data": {
      "text/plain": [
       "94.2"
      ]
     },
     "execution_count": 41,
     "metadata": {},
     "output_type": "execute_result"
    }
   ],
   "source": [
    "cir3.get_circumference()"
   ]
  },
  {
   "cell_type": "code",
   "execution_count": null,
   "id": "7fa3b3d5",
   "metadata": {},
   "outputs": [],
   "source": []
  }
 ],
 "metadata": {
  "kernelspec": {
   "display_name": "Python 3 (ipykernel)",
   "language": "python",
   "name": "python3"
  },
  "language_info": {
   "codemirror_mode": {
    "name": "ipython",
    "version": 3
   },
   "file_extension": ".py",
   "mimetype": "text/x-python",
   "name": "python",
   "nbconvert_exporter": "python",
   "pygments_lexer": "ipython3",
   "version": "3.9.7"
  }
 },
 "nbformat": 4,
 "nbformat_minor": 5
}
