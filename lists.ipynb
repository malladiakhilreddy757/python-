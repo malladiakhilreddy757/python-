{
 "cells": [
  {
   "cell_type": "markdown",
   "id": "8fb08235",
   "metadata": {},
   "source": [
    "# Lists"
   ]
  },
  {
   "cell_type": "markdown",
   "id": "f8dbf43a",
   "metadata": {},
   "source": [
    "in the python lists are written in [] "
   ]
  },
  {
   "cell_type": "markdown",
   "id": "d569ed0e",
   "metadata": {},
   "source": [
    "### Important properties of lists"
   ]
  },
  {
   "cell_type": "markdown",
   "id": "b5f0f0dc",
   "metadata": {},
   "source": [
    ". Can store different data types\n",
    "\n",
    ". Duplicate values are allowed\n",
    "\n",
    ". Order is retained\n",
    "\n",
    ". Indexing and slicing is possible\n",
    "\n",
    ". Mutable"
   ]
  },
  {
   "cell_type": "code",
   "execution_count": 1,
   "id": "932a4d2e",
   "metadata": {},
   "outputs": [],
   "source": [
    "list1 = [1,2,3,4.5,5.5,\"maths\",\"python\",True,False]# list with different data types\n"
   ]
  },
  {
   "cell_type": "code",
   "execution_count": 2,
   "id": "4cd3d88c",
   "metadata": {},
   "outputs": [
    {
     "data": {
      "text/plain": [
       "[1, 2, 3, 4.5, 5.5, 'maths', 'python', True, False]"
      ]
     },
     "execution_count": 2,
     "metadata": {},
     "output_type": "execute_result"
    }
   ],
   "source": [
    "list1"
   ]
  },
  {
   "cell_type": "code",
   "execution_count": 4,
   "id": "93b693bc",
   "metadata": {},
   "outputs": [
    {
     "data": {
      "text/plain": [
       "list"
      ]
     },
     "execution_count": 4,
     "metadata": {},
     "output_type": "execute_result"
    }
   ],
   "source": [
    "type((list1))"
   ]
  },
  {
   "cell_type": "code",
   "execution_count": 5,
   "id": "5c2b2ea0",
   "metadata": {},
   "outputs": [
    {
     "data": {
      "text/plain": [
       "9"
      ]
     },
     "execution_count": 5,
     "metadata": {},
     "output_type": "execute_result"
    }
   ],
   "source": [
    "len(list1)# it give the length of the function"
   ]
  },
  {
   "cell_type": "markdown",
   "id": "5122a13b",
   "metadata": {},
   "source": [
    "# Indexing\n",
    " . Indexing starts from 0(zero). Very much similar to what we have learnt in our previous class"
   ]
  },
  {
   "cell_type": "code",
   "execution_count": 7,
   "id": "4bc2cf78",
   "metadata": {},
   "outputs": [
    {
     "data": {
      "text/plain": [
       "1"
      ]
     },
     "execution_count": 7,
     "metadata": {},
     "output_type": "execute_result"
    }
   ],
   "source": [
    "# to get the first element\n",
    "list1 = [1,2,3,4,5,6,7,8,9]\n",
    "list1[0]"
   ]
  },
  {
   "cell_type": "code",
   "execution_count": 8,
   "id": "00706518",
   "metadata": {},
   "outputs": [
    {
     "data": {
      "text/plain": [
       "[1, 2, 3, 4, 5, 6, 7, 8]"
      ]
     },
     "execution_count": 8,
     "metadata": {},
     "output_type": "execute_result"
    }
   ],
   "source": [
    "list1[0 :8] # to get first 8 elements "
   ]
  },
  {
   "cell_type": "code",
   "execution_count": 9,
   "id": "1996e63a",
   "metadata": {},
   "outputs": [
    {
     "data": {
      "text/plain": [
       "[5, 6, 7, 8, 9]"
      ]
     },
     "execution_count": 9,
     "metadata": {},
     "output_type": "execute_result"
    }
   ],
   "source": [
    "list1[-5:]# to get last five elements"
   ]
  },
  {
   "cell_type": "markdown",
   "id": "638ffe0a",
   "metadata": {},
   "source": [
    "# Slicing"
   ]
  },
  {
   "cell_type": "code",
   "execution_count": 10,
   "id": "5a3ae1f9",
   "metadata": {},
   "outputs": [],
   "source": [
    "# [start:stop:step]\n",
    "\n",
    "# start = starting position (default value is 0)\n",
    "# stop = end position(exclusive) (default value is end position)\n",
    "# step = step size or increment size (default value is 1)"
   ]
  },
  {
   "cell_type": "code",
   "execution_count": 11,
   "id": "e79a0d6f",
   "metadata": {},
   "outputs": [
    {
     "data": {
      "text/plain": [
       "[1, 2, 3, 4, 5]"
      ]
     },
     "execution_count": 11,
     "metadata": {},
     "output_type": "execute_result"
    }
   ],
   "source": [
    "# to get first 5 elements \n",
    "list1[:5]"
   ]
  },
  {
   "cell_type": "code",
   "execution_count": 12,
   "id": "8a1a13d7",
   "metadata": {},
   "outputs": [
    {
     "data": {
      "text/plain": [
       "[5, 6, 7, 8, 9]"
      ]
     },
     "execution_count": 12,
     "metadata": {},
     "output_type": "execute_result"
    }
   ],
   "source": [
    "# to get last 5 elements \n",
    "list1[-5:]\n"
   ]
  },
  {
   "cell_type": "code",
   "execution_count": 13,
   "id": "fec64c47",
   "metadata": {},
   "outputs": [
    {
     "data": {
      "text/plain": [
       "[1, 3, 5, 7, 9]"
      ]
     },
     "execution_count": 13,
     "metadata": {},
     "output_type": "execute_result"
    }
   ],
   "source": [
    "# to get alternate elements \n",
    "list1 = [1,2,3,4,5,6,7,8,9]\n",
    "list1[::2]"
   ]
  },
  {
   "cell_type": "code",
   "execution_count": 14,
   "id": "244e0dd5",
   "metadata": {},
   "outputs": [
    {
     "data": {
      "text/plain": [
       "[1, 2, 3, 4, 5, 6, 7, 8, 9]"
      ]
     },
     "execution_count": 14,
     "metadata": {},
     "output_type": "execute_result"
    }
   ],
   "source": [
    "# to get every 3rd element from the starting position\n",
    "list1\n"
   ]
  },
  {
   "cell_type": "code",
   "execution_count": 15,
   "id": "7b906b87",
   "metadata": {},
   "outputs": [
    {
     "data": {
      "text/plain": [
       "[1, 4, 7]"
      ]
     },
     "execution_count": 15,
     "metadata": {},
     "output_type": "execute_result"
    }
   ],
   "source": [
    "list1[::3]"
   ]
  },
  {
   "cell_type": "markdown",
   "id": "0d8e2ef4",
   "metadata": {},
   "source": [
    "# mutable"
   ]
  },
  {
   "cell_type": "code",
   "execution_count": 16,
   "id": "f4ef9c23",
   "metadata": {},
   "outputs": [
    {
     "data": {
      "text/plain": [
       "[100, 2, 3, 4, 5, 6, 7, 8, 9]"
      ]
     },
     "execution_count": 16,
     "metadata": {},
     "output_type": "execute_result"
    }
   ],
   "source": [
    "# to change the first value\n",
    "list1[0] = 100\n",
    "list1"
   ]
  },
  {
   "cell_type": "code",
   "execution_count": 17,
   "id": "ee8ac383",
   "metadata": {},
   "outputs": [
    {
     "data": {
      "text/plain": [
       "[100, 2, 300, 4, 5, 6, 7, 8, 9]"
      ]
     },
     "execution_count": 17,
     "metadata": {},
     "output_type": "execute_result"
    }
   ],
   "source": [
    "# similarly you can change any values based on index position\n",
    "list1[2] = 300\n",
    "list1"
   ]
  },
  {
   "cell_type": "markdown",
   "id": "0dca2c9e",
   "metadata": {},
   "source": [
    "# some inbuilt methods"
   ]
  },
  {
   "cell_type": "code",
   "execution_count": 18,
   "id": "e541cb9f",
   "metadata": {},
   "outputs": [
    {
     "data": {
      "text/plain": [
       "[1, 2, 3, True]"
      ]
     },
     "execution_count": 18,
     "metadata": {},
     "output_type": "execute_result"
    }
   ],
   "source": [
    "# my_list\n",
    "my_list = [1,2,3,True]\n",
    "my_list"
   ]
  },
  {
   "cell_type": "markdown",
   "id": "e959a9bd",
   "metadata": {},
   "source": [
    "# append(val)\n",
    " . appends the value at the end of the list"
   ]
  },
  {
   "cell_type": "code",
   "execution_count": 22,
   "id": "d6112c01",
   "metadata": {},
   "outputs": [
    {
     "name": "stdout",
     "output_type": "stream",
     "text": [
      "[1, 2, 3, True, 'akhilreddy']\n"
     ]
    }
   ],
   "source": [
    "my_list = [1,2,3,True]\n",
    "my_list.append(\"akhilreddy\")\n",
    "print(my_list)"
   ]
  },
  {
   "cell_type": "code",
   "execution_count": 23,
   "id": "791b8469",
   "metadata": {},
   "outputs": [
    {
     "data": {
      "text/plain": [
       "[1, 2, 3, True, 'akhilreddy']"
      ]
     },
     "execution_count": 23,
     "metadata": {},
     "output_type": "execute_result"
    }
   ],
   "source": [
    "my_list"
   ]
  },
  {
   "cell_type": "code",
   "execution_count": 25,
   "id": "019732a1",
   "metadata": {},
   "outputs": [
    {
     "name": "stdout",
     "output_type": "stream",
     "text": [
      "[1, 2, 3, True, 'akhilreddy', 'don', 'don']\n"
     ]
    }
   ],
   "source": [
    "my_list.append(\"don\")\n",
    "print(my_list)"
   ]
  },
  {
   "cell_type": "code",
   "execution_count": 26,
   "id": "dbf9cffc",
   "metadata": {},
   "outputs": [
    {
     "name": "stdout",
     "output_type": "stream",
     "text": [
      "<class 'list'>\n"
     ]
    }
   ],
   "source": [
    "print(type(my_list))"
   ]
  },
  {
   "cell_type": "markdown",
   "id": "f5e495a6",
   "metadata": {},
   "source": [
    "#### 2) insert(pos,element)"
   ]
  },
  {
   "cell_type": "markdown",
   "id": "26bdc15b",
   "metadata": {},
   "source": [
    ". inserts the element at the specified index"
   ]
  },
  {
   "cell_type": "code",
   "execution_count": 28,
   "id": "38371504",
   "metadata": {},
   "outputs": [
    {
     "data": {
      "text/plain": [
       "[1, 2, 3, True, 'akhilreddy', 'don', 'don']"
      ]
     },
     "execution_count": 28,
     "metadata": {},
     "output_type": "execute_result"
    }
   ],
   "source": [
    "my_list"
   ]
  },
  {
   "cell_type": "code",
   "execution_count": 31,
   "id": "b68cd412",
   "metadata": {},
   "outputs": [],
   "source": [
    "my_list.remove(\"don\")"
   ]
  },
  {
   "cell_type": "code",
   "execution_count": 33,
   "id": "c28339ed",
   "metadata": {},
   "outputs": [
    {
     "data": {
      "text/plain": [
       "[1, 2, 3, True, 'akhilreddy']"
      ]
     },
     "execution_count": 33,
     "metadata": {},
     "output_type": "execute_result"
    }
   ],
   "source": [
    "my_list"
   ]
  },
  {
   "cell_type": "code",
   "execution_count": 34,
   "id": "5614ee27",
   "metadata": {},
   "outputs": [],
   "source": [
    "my_list.insert(3,4)# here we have insert the 3index element with 4 "
   ]
  },
  {
   "cell_type": "code",
   "execution_count": 35,
   "id": "4e327685",
   "metadata": {},
   "outputs": [
    {
     "name": "stdout",
     "output_type": "stream",
     "text": [
      "[1, 2, 3, 4, True, 'akhilreddy']\n"
     ]
    }
   ],
   "source": [
    "print(my_list)"
   ]
  },
  {
   "cell_type": "code",
   "execution_count": 36,
   "id": "f296cf61",
   "metadata": {},
   "outputs": [],
   "source": [
    "# to insert value False after True\n",
    "my_list.insert(0,False)"
   ]
  },
  {
   "cell_type": "markdown",
   "id": "aa03cad9",
   "metadata": {},
   "source": [
    "# copying the lists\n",
    "1) my_list_copy = my_list\n",
    "\n",
    "2) my_list_copy = my_list.copy()"
   ]
  },
  {
   "cell_type": "code",
   "execution_count": 37,
   "id": "6f95315e",
   "metadata": {},
   "outputs": [
    {
     "data": {
      "text/plain": [
       "[False, 1, 2, 3, 4, True, 'akhilreddy']"
      ]
     },
     "execution_count": 37,
     "metadata": {},
     "output_type": "execute_result"
    }
   ],
   "source": [
    "my_list"
   ]
  },
  {
   "cell_type": "code",
   "execution_count": 38,
   "id": "aba039fe",
   "metadata": {},
   "outputs": [],
   "source": [
    "my_list_copy= my_list"
   ]
  },
  {
   "cell_type": "code",
   "execution_count": 39,
   "id": "cbde75de",
   "metadata": {},
   "outputs": [
    {
     "name": "stdout",
     "output_type": "stream",
     "text": [
      "[False, 1, 2, 3, 4, True, 'akhilreddy']\n",
      "[False, 1, 2, 3, 4, True, 'akhilreddy']\n"
     ]
    }
   ],
   "source": [
    "print(my_list)\n",
    "print(my_list_copy)"
   ]
  },
  {
   "cell_type": "code",
   "execution_count": 40,
   "id": "fe7b9ab0",
   "metadata": {},
   "outputs": [
    {
     "name": "stdout",
     "output_type": "stream",
     "text": [
      "[False, 1, 2, 3, 4, True, 'akhilreddy']\n",
      "[False, 1, 2, 3, 4, True, 'akhilreddy']\n"
     ]
    }
   ],
   "source": [
    "my_list_copy = my_list.copy()\n",
    "print(my_list)\n",
    "print(my_list_copy)"
   ]
  },
  {
   "cell_type": "markdown",
   "id": "ca5c48c1",
   "metadata": {},
   "source": [
    ". Problem with assignment (=)"
   ]
  },
  {
   "cell_type": "code",
   "execution_count": 41,
   "id": "e889a726",
   "metadata": {},
   "outputs": [
    {
     "name": "stdout",
     "output_type": "stream",
     "text": [
      "[False, 1, 2, 3, 4, True, 'akhilreddy']\n"
     ]
    }
   ],
   "source": [
    "my_list_copy = my_list\n",
    "print(my_list)"
   ]
  },
  {
   "cell_type": "code",
   "execution_count": 42,
   "id": "6b20184d",
   "metadata": {},
   "outputs": [
    {
     "name": "stdout",
     "output_type": "stream",
     "text": [
      "[False, 1, 2, 3, 4, True, 'akhilreddy']\n"
     ]
    }
   ],
   "source": [
    "print(my_list_copy)"
   ]
  },
  {
   "cell_type": "code",
   "execution_count": 43,
   "id": "652adcfd",
   "metadata": {},
   "outputs": [],
   "source": [
    "my_list_copy[0] = 100"
   ]
  },
  {
   "cell_type": "code",
   "execution_count": 44,
   "id": "c073baa7",
   "metadata": {},
   "outputs": [
    {
     "data": {
      "text/plain": [
       "[100, 1, 2, 3, 4, True, 'akhilreddy']"
      ]
     },
     "execution_count": 44,
     "metadata": {},
     "output_type": "execute_result"
    }
   ],
   "source": [
    "my_list_copy"
   ]
  },
  {
   "cell_type": "markdown",
   "id": "14482cc9",
   "metadata": {},
   "source": [
    "#### Note: original list is also getting modified"
   ]
  },
  {
   "cell_type": "code",
   "execution_count": 45,
   "id": "a54f372f",
   "metadata": {},
   "outputs": [
    {
     "data": {
      "text/plain": [
       "[100, 1, 2, 3, 4, True, 'akhilreddy']"
      ]
     },
     "execution_count": 45,
     "metadata": {},
     "output_type": "execute_result"
    }
   ],
   "source": [
    "my_list"
   ]
  },
  {
   "cell_type": "markdown",
   "id": "e79b83c8",
   "metadata": {},
   "source": [
    "#### 3) .copy()"
   ]
  },
  {
   "cell_type": "code",
   "execution_count": 46,
   "id": "06400462",
   "metadata": {},
   "outputs": [
    {
     "name": "stdout",
     "output_type": "stream",
     "text": [
      "[100, 1, 2, 3, 4, True, 'akhilreddy']\n"
     ]
    }
   ],
   "source": [
    "my_list_copy = my_list.copy()\n",
    "print(my_list)"
   ]
  },
  {
   "cell_type": "code",
   "execution_count": 47,
   "id": "5dc353da",
   "metadata": {},
   "outputs": [
    {
     "data": {
      "text/plain": [
       "[100, 1, 2, 3, 4, True, 'akhilreddy']"
      ]
     },
     "execution_count": 47,
     "metadata": {},
     "output_type": "execute_result"
    }
   ],
   "source": [
    "my_list_copy"
   ]
  },
  {
   "cell_type": "code",
   "execution_count": 48,
   "id": "6dfc4d33",
   "metadata": {},
   "outputs": [],
   "source": [
    "my_list_copy[0] = 0"
   ]
  },
  {
   "cell_type": "code",
   "execution_count": 49,
   "id": "8f236122",
   "metadata": {},
   "outputs": [
    {
     "data": {
      "text/plain": [
       "[0, 1, 2, 3, 4, True, 'akhilreddy']"
      ]
     },
     "execution_count": 49,
     "metadata": {},
     "output_type": "execute_result"
    }
   ],
   "source": [
    "my_list_copy"
   ]
  },
  {
   "cell_type": "markdown",
   "id": "e77aa143",
   "metadata": {},
   "source": [
    "#### Note: Original list is not getting modified"
   ]
  },
  {
   "cell_type": "code",
   "execution_count": 50,
   "id": "467a7295",
   "metadata": {},
   "outputs": [
    {
     "data": {
      "text/plain": [
       "[100, 1, 2, 3, 4, True, 'akhilreddy']"
      ]
     },
     "execution_count": 50,
     "metadata": {},
     "output_type": "execute_result"
    }
   ],
   "source": [
    "my_list"
   ]
  },
  {
   "cell_type": "markdown",
   "id": "ff9e822c",
   "metadata": {},
   "source": [
    "#### 4) .extend()"
   ]
  },
  {
   "cell_type": "markdown",
   "id": "3b0cfe1e",
   "metadata": {},
   "source": [
    "syntax ----> list1.extend(list2)"
   ]
  },
  {
   "cell_type": "code",
   "execution_count": 51,
   "id": "2dfbb067",
   "metadata": {},
   "outputs": [
    {
     "data": {
      "text/plain": [
       "[1, 2, 3, 4, 'a', 'b', 'c', 'd', True, False]"
      ]
     },
     "execution_count": 51,
     "metadata": {},
     "output_type": "execute_result"
    }
   ],
   "source": [
    "list1 = [1,2,3,4]\n",
    "list2 = ['a','b','c','d']\n",
    "list3 = [True,False]\n",
    "\n",
    "list1.extend(list2)\n",
    "list1.extend(list3)\n",
    "list1"
   ]
  },
  {
   "cell_type": "code",
   "execution_count": 52,
   "id": "6e680878",
   "metadata": {},
   "outputs": [
    {
     "data": {
      "text/plain": [
       "[1, 2, 3, 4, 'a', 'b', 'c', 'd', True, False]"
      ]
     },
     "execution_count": 52,
     "metadata": {},
     "output_type": "execute_result"
    }
   ],
   "source": [
    "# similar to addition of lists\n",
    "list1 = [1,2,3,4]\n",
    "list2 = ['a','b','c','d']\n",
    "list3 = [True,False]\n",
    "\n",
    "list1 = list1+list2+list3\n",
    "list1"
   ]
  },
  {
   "cell_type": "markdown",
   "id": "eaf5838f",
   "metadata": {},
   "source": [
    "# 5) .pop(index)\n",
    " . removes the element from specified index and returns the element."
   ]
  },
  {
   "cell_type": "code",
   "execution_count": 53,
   "id": "9590ba21",
   "metadata": {},
   "outputs": [],
   "source": [
    "list1 = [1,2,3,4,5,6,7,8,9]"
   ]
  },
  {
   "cell_type": "code",
   "execution_count": 54,
   "id": "4a159424",
   "metadata": {},
   "outputs": [],
   "source": [
    "rem = list1.pop(2)"
   ]
  },
  {
   "cell_type": "code",
   "execution_count": 61,
   "id": "d9a464b1",
   "metadata": {},
   "outputs": [
    {
     "name": "stdout",
     "output_type": "stream",
     "text": [
      "3\n"
     ]
    }
   ],
   "source": [
    "print(rem)"
   ]
  },
  {
   "cell_type": "code",
   "execution_count": 59,
   "id": "0bad5a57",
   "metadata": {},
   "outputs": [
    {
     "data": {
      "text/plain": [
       "[1, 2, 4, 5, 6, 7, 8, 9]"
      ]
     },
     "execution_count": 59,
     "metadata": {},
     "output_type": "execute_result"
    }
   ],
   "source": [
    "list1"
   ]
  },
  {
   "cell_type": "markdown",
   "id": "c74e18d5",
   "metadata": {},
   "source": [
    "# Exercises on List"
   ]
  },
  {
   "cell_type": "code",
   "execution_count": 62,
   "id": "3c9c51df",
   "metadata": {},
   "outputs": [
    {
     "data": {
      "text/plain": [
       "[[1, 2, 3], [4, 5, 6], [7, 8, 9]]"
      ]
     },
     "execution_count": 62,
     "metadata": {},
     "output_type": "execute_result"
    }
   ],
   "source": [
    "list1 = [[1,2,3],[4,5,6],[7,8,9]]\n",
    "list1"
   ]
  },
  {
   "cell_type": "code",
   "execution_count": 63,
   "id": "15924d17",
   "metadata": {},
   "outputs": [
    {
     "data": {
      "text/plain": [
       "2"
      ]
     },
     "execution_count": 63,
     "metadata": {},
     "output_type": "execute_result"
    }
   ],
   "source": [
    "list1[0][1]"
   ]
  },
  {
   "cell_type": "code",
   "execution_count": 64,
   "id": "4375f0b8",
   "metadata": {},
   "outputs": [
    {
     "data": {
      "text/plain": [
       "6"
      ]
     },
     "execution_count": 64,
     "metadata": {},
     "output_type": "execute_result"
    }
   ],
   "source": [
    "list1[1][2]"
   ]
  },
  {
   "cell_type": "code",
   "execution_count": 65,
   "id": "ef171257",
   "metadata": {},
   "outputs": [
    {
     "data": {
      "text/plain": [
       "7"
      ]
     },
     "execution_count": 65,
     "metadata": {},
     "output_type": "execute_result"
    }
   ],
   "source": [
    "list1[2][0]"
   ]
  },
  {
   "cell_type": "code",
   "execution_count": 66,
   "id": "7de7f16d",
   "metadata": {},
   "outputs": [
    {
     "data": {
      "text/plain": [
       "[1, 2, [3, 4, 5, 6, [7, 8, 9]]]"
      ]
     },
     "execution_count": 66,
     "metadata": {},
     "output_type": "execute_result"
    }
   ],
   "source": [
    "list2 = [1,2,[3,4,5,6,[7,8,9]]]\n",
    "list2"
   ]
  },
  {
   "cell_type": "code",
   "execution_count": 67,
   "id": "69015256",
   "metadata": {},
   "outputs": [
    {
     "data": {
      "text/plain": [
       "2"
      ]
     },
     "execution_count": 67,
     "metadata": {},
     "output_type": "execute_result"
    }
   ],
   "source": [
    "#to access element 2\n",
    "list2[1]"
   ]
  },
  {
   "cell_type": "code",
   "execution_count": 68,
   "id": "6ab5d1e2",
   "metadata": {},
   "outputs": [
    {
     "data": {
      "text/plain": [
       "4"
      ]
     },
     "execution_count": 68,
     "metadata": {},
     "output_type": "execute_result"
    }
   ],
   "source": [
    "#to access element 4\n",
    "list2[2][1]"
   ]
  },
  {
   "cell_type": "code",
   "execution_count": 69,
   "id": "6f50d0cb",
   "metadata": {},
   "outputs": [
    {
     "data": {
      "text/plain": [
       "[7, 8, 9]"
      ]
     },
     "execution_count": 69,
     "metadata": {},
     "output_type": "execute_result"
    }
   ],
   "source": [
    "#to access elements 7,8,9\n",
    "list2[2][4]"
   ]
  },
  {
   "cell_type": "code",
   "execution_count": 70,
   "id": "376c8be3",
   "metadata": {},
   "outputs": [
    {
     "data": {
      "text/plain": [
       "9"
      ]
     },
     "execution_count": 70,
     "metadata": {},
     "output_type": "execute_result"
    }
   ],
   "source": [
    "#to access element 9\n",
    "list2[2][4][2]"
   ]
  },
  {
   "cell_type": "code",
   "execution_count": 71,
   "id": "158cacfa",
   "metadata": {},
   "outputs": [
    {
     "data": {
      "text/plain": [
       "[3, 4, 5, 6]"
      ]
     },
     "execution_count": 71,
     "metadata": {},
     "output_type": "execute_result"
    }
   ],
   "source": [
    "#to access 3,4,5,6\n",
    "list2[2][:4]"
   ]
  },
  {
   "cell_type": "markdown",
   "id": "abdf5934",
   "metadata": {},
   "source": [
    "# Task-3.1\n",
    "  . go through other inbuilt methods like remove(),count(),clear(),sort(),reverse()\n",
    "\n",
    "# Task 3.2"
   ]
  },
  {
   "cell_type": "code",
   "execution_count": 72,
   "id": "60b9153a",
   "metadata": {},
   "outputs": [],
   "source": [
    "# create a list of lenght = 10 and access 5th to 8th data."
   ]
  },
  {
   "cell_type": "markdown",
   "id": "55a13a65",
   "metadata": {},
   "source": [
    "# Task-4\n",
    "  2 problems!"
   ]
  },
  {
   "cell_type": "code",
   "execution_count": 73,
   "id": "605cda52",
   "metadata": {},
   "outputs": [
    {
     "data": {
      "text/plain": [
       "[10, 20, [30, 40, [50, 60, 70], 80], 90, 100]"
      ]
     },
     "execution_count": 73,
     "metadata": {},
     "output_type": "execute_result"
    }
   ],
   "source": [
    "#Add item 70 after 60 in the following Python List\n",
    "#input\n",
    "l1 = [10, 20, [30, 40, [50, 60], 80], 90, 100]\n",
    "#output\n",
    "[10, 20, [30, 40, [50, 60, 70], 80], 90, 100]"
   ]
  },
  {
   "cell_type": "code",
   "execution_count": null,
   "id": "37db5c27",
   "metadata": {},
   "outputs": [],
   "source": [
    "#add sublist [7,8] after 6\n",
    "#input\n",
    "l2 = [1,2,[3,4,5,6],9]\n",
    "#output\n",
    "[1,2,[3,4,5,6,[7,8]],9]"
   ]
  }
 ],
 "metadata": {
  "kernelspec": {
   "display_name": "Python 3 (ipykernel)",
   "language": "python",
   "name": "python3"
  },
  "language_info": {
   "codemirror_mode": {
    "name": "ipython",
    "version": 3
   },
   "file_extension": ".py",
   "mimetype": "text/x-python",
   "name": "python",
   "nbconvert_exporter": "python",
   "pygments_lexer": "ipython3",
   "version": "3.9.7"
  }
 },
 "nbformat": 4,
 "nbformat_minor": 5
}
