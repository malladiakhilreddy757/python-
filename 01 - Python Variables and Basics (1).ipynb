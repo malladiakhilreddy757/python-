{
 "cells": [
  {
   "cell_type": "markdown",
   "id": "07d1ac55",
   "metadata": {},
   "source": [
    "# Python Variables\n",
    "\n",
    "   .Variables are containers for storing data values\n",
    "    \n",
    "   .A variable is created the moment you first assign a value to it.\n",
    "    \n",
    "   .Unlike other programming languages,you dont have to declare the type of variable"
   ]
  },
  {
   "cell_type": "code",
   "execution_count": 1,
   "id": "803347db",
   "metadata": {},
   "outputs": [
    {
     "name": "stdout",
     "output_type": "stream",
     "text": [
      "25 35\n"
     ]
    }
   ],
   "source": [
    "# ex 1\n",
    "X = 25\n",
    "Y = 35\n",
    "print(X , Y)"
   ]
  },
  {
   "cell_type": "code",
   "execution_count": 2,
   "id": "056401bb",
   "metadata": {},
   "outputs": [
    {
     "name": "stdout",
     "output_type": "stream",
     "text": [
      "56\n",
      "guido van rossum\n"
     ]
    }
   ],
   "source": [
    "# In Python, no need to declare the type of variable .i.e,\n",
    "# same varible can be used to hold different data types\n",
    "x = 56\n",
    "print(x)\n",
    "x = 'guido van rossum'\n",
    "print(x)\n"
   ]
  },
  {
   "cell_type": "markdown",
   "id": "776e6f21",
   "metadata": {},
   "source": [
    "# Convention For Naming Variables"
   ]
  },
  {
   "cell_type": "markdown",
   "id": "223cea13",
   "metadata": {},
   "source": [
    "  . A variable name can only contain alphabets-numeric characters and underscores (A-z, 0-9, and _ )\n",
    "    \n",
    "  . A variable name must start with a letter or the underscore character\n",
    "\n",
    "  . A variable name cannot start with a number"
   ]
  },
  {
   "cell_type": "code",
   "execution_count": 3,
   "id": "e1832ddb",
   "metadata": {},
   "outputs": [
    {
     "name": "stdout",
     "output_type": "stream",
     "text": [
      "23 23 23\n"
     ]
    }
   ],
   "source": [
    "# Variable names are case-sensitive\n",
    "# here all the three are different variables\n",
    "Age = 23\n",
    "age = 23\n",
    "AGE = 23\n",
    "print(age , Age ,AGE)"
   ]
  },
  {
   "cell_type": "code",
   "execution_count": null,
   "id": "73ba4b88",
   "metadata": {
    "scrolled": true
   },
   "outputs": [],
   "source": [
    "#Legal variable names:\n",
    "myvar = \"Python\"\n",
    "my_var = \"Python\"\n",
    "_my_var = \"Python\"\n",
    "myVar = \"Python\"\n",
    "MYVAR = \"Python\"\n",
    "myvar2 = \"Python\"\n",
    "\n",
    "#Illegal variable names:\n",
    "2myvar = \"Python\"  # starting with number\n",
    "my-var = \"Python\"  # hyphen is not allowed \n",
    "my var = \"Python\"  # space in between is not allowed"
   ]
  },
  {
   "cell_type": "markdown",
   "id": "cef64487",
   "metadata": {},
   "source": [
    "# Python print() Function"
   ]
  },
  {
   "cell_type": "markdown",
   "id": "afaf7504",
   "metadata": {},
   "source": [
    ". The print() function prints the specified message to the screen\n",
    "\n",
    ". The message can be a string, or any other object, the object will be converted into a string before written to the screen."
   ]
  },
  {
   "cell_type": "code",
   "execution_count": 5,
   "id": "122d3e1c",
   "metadata": {},
   "outputs": [
    {
     "name": "stdout",
     "output_type": "stream",
     "text": [
      "akhil reddy malladi\n"
     ]
    }
   ],
   "source": [
    "print(\"akhil reddy malladi\") #ex 1"
   ]
  },
  {
   "cell_type": "code",
   "execution_count": 6,
   "id": "7a3e1c59",
   "metadata": {},
   "outputs": [
    {
     "name": "stdout",
     "output_type": "stream",
     "text": [
      "well to the world of python\n"
     ]
    }
   ],
   "source": [
    "print(\"well to the world of python\") #ex 2"
   ]
  },
  {
   "cell_type": "code",
   "execution_count": 7,
   "id": "1cf6f0c5",
   "metadata": {},
   "outputs": [
    {
     "name": "stdout",
     "output_type": "stream",
     "text": [
      "25 21\n"
     ]
    }
   ],
   "source": [
    "akhil = 25    #ex 3\n",
    "anil = 21\n",
    "print(akhil, anil)"
   ]
  },
  {
   "cell_type": "code",
   "execution_count": 8,
   "id": "5ba542fd",
   "metadata": {},
   "outputs": [
    {
     "name": "stdout",
     "output_type": "stream",
     "text": [
      "21\n"
     ]
    }
   ],
   "source": [
    "print(anil) #ex 4"
   ]
  },
  {
   "cell_type": "code",
   "execution_count": 9,
   "id": "d5e2b9bb",
   "metadata": {},
   "outputs": [
    {
     "name": "stdout",
     "output_type": "stream",
     "text": [
      "25 21\n"
     ]
    }
   ],
   "source": [
    "a = akhil     #ex 5\n",
    "b = anil\n",
    "print(a,b)\n"
   ]
  },
  {
   "cell_type": "code",
   "execution_count": 11,
   "id": "dbefae1a",
   "metadata": {},
   "outputs": [
    {
     "name": "stdout",
     "output_type": "stream",
     "text": [
      "rossum\n"
     ]
    }
   ],
   "source": [
    "NAME_1 = \"guido\"    #ex 6\n",
    "Name_1 = \"van\"\n",
    "name_1 = \"rossum\"\n",
    "print(name_1,)"
   ]
  },
  {
   "cell_type": "code",
   "execution_count": 12,
   "id": "a37bb8a2",
   "metadata": {},
   "outputs": [
    {
     "name": "stdout",
     "output_type": "stream",
     "text": [
      "I have an Apple\n"
     ]
    }
   ],
   "source": [
    "# Ex 7 \n",
    "fruit = 'Apple'\n",
    "print(\"I have an \"+fruit)"
   ]
  },
  {
   "cell_type": "code",
   "execution_count": 13,
   "id": "6e309901",
   "metadata": {},
   "outputs": [
    {
     "name": "stdout",
     "output_type": "stream",
     "text": [
      "I have 2 fruits, one is Apple other one is Banana\n"
     ]
    }
   ],
   "source": [
    "# Ex7)\n",
    "fruit1 = 'Apple'\n",
    "fruit2 = 'Banana'\n",
    "print('I have 2 fruits, one is '+ fruit1+\" other one is \"+fruit2)"
   ]
  },
  {
   "cell_type": "code",
   "execution_count": 14,
   "id": "2c6635e5",
   "metadata": {},
   "outputs": [
    {
     "name": "stdout",
     "output_type": "stream",
     "text": [
      " I have 2 fruits, one is Apple other one is Banana\n"
     ]
    }
   ],
   "source": [
    "print(\" I have 2 fruits, one is {} other one is {}\".format(fruit1,fruit2))"
   ]
  },
  {
   "cell_type": "code",
   "execution_count": 15,
   "id": "e9948a7e",
   "metadata": {},
   "outputs": [
    {
     "name": "stdout",
     "output_type": "stream",
     "text": [
      " I have 2 fruits, one is Banana other one is Apple\n"
     ]
    }
   ],
   "source": [
    "print(\" I have 2 fruits, one is {1} other one is {0}\".format(fruit1,fruit2))"
   ]
  },
  {
   "cell_type": "markdown",
   "id": "d0f8d810",
   "metadata": {},
   "source": [
    "# Python Comments"
   ]
  },
  {
   "cell_type": "markdown",
   "id": "18a60ad4",
   "metadata": {},
   "source": [
    ". Comments can be used to explain Python code.\n",
    "\n",
    ". Comments can be used to make the code more readable.\n",
    "\n",
    ". Comments can be used to prevent execution when testing code.\n",
    "\n",
    ". '#' is used for single line comment. Python will ignore the lines starting with '#'"
   ]
  },
  {
   "cell_type": "code",
   "execution_count": 16,
   "id": "97c9e6a9",
   "metadata": {},
   "outputs": [
    {
     "name": "stdout",
     "output_type": "stream",
     "text": [
      "Hello world\n"
     ]
    }
   ],
   "source": [
    "#this is a comment\n",
    "print('Hello world')"
   ]
  },
  {
   "cell_type": "code",
   "execution_count": 17,
   "id": "6f431899",
   "metadata": {},
   "outputs": [
    {
     "name": "stdout",
     "output_type": "stream",
     "text": [
      "Hello world\n"
     ]
    }
   ],
   "source": [
    "print('Hello world') #You can write comments here as well!"
   ]
  },
  {
   "cell_type": "code",
   "execution_count": 18,
   "id": "279bcb08",
   "metadata": {},
   "outputs": [
    {
     "name": "stdout",
     "output_type": "stream",
     "text": [
      "Hello world\n",
      "This is our first class\n"
     ]
    }
   ],
   "source": [
    "print('Hello world')\n",
    "# print('Welcome to python')\n",
    "print('This is our first class')"
   ]
  },
  {
   "cell_type": "code",
   "execution_count": 19,
   "id": "2230b5ba",
   "metadata": {},
   "outputs": [
    {
     "name": "stdout",
     "output_type": "stream",
     "text": [
      "Hello-World\n"
     ]
    }
   ],
   "source": [
    "# i am a \n",
    "# multiline \n",
    "# comment \n",
    "# using '#' \n",
    "# at the beginning of\n",
    "# each line\n",
    "print('Hello-World')"
   ]
  },
  {
   "cell_type": "code",
   "execution_count": 21,
   "id": "6c50859d",
   "metadata": {},
   "outputs": [
    {
     "name": "stdout",
     "output_type": "stream",
     "text": [
      "super concept\n"
     ]
    }
   ],
   "source": [
    "'''iam work on python modules and its uses   #python exclude the triple code content and execute the programme\n",
    "i love coding\n",
    "iam a big fan of PM'''\n",
    "print(\"super concept\")"
   ]
  },
  {
   "cell_type": "markdown",
   "id": "6aa45707",
   "metadata": {},
   "source": [
    "# INPUT FUNCTION ()"
   ]
  },
  {
   "cell_type": "markdown",
   "id": "3eac6d90",
   "metadata": {},
   "source": [
    "   . The input() function allows us to take input from the user."
   ]
  },
  {
   "cell_type": "code",
   "execution_count": 22,
   "id": "e8d2d798",
   "metadata": {},
   "outputs": [
    {
     "name": "stdout",
     "output_type": "stream",
     "text": [
      "Enter your name : akhil\n",
      "hello akhil\n"
     ]
    }
   ],
   "source": [
    "# Ex1) ask name from the user\n",
    "name = input(\"Enter your name : \")\n",
    "print(\"hello \"+name)"
   ]
  },
  {
   "cell_type": "code",
   "execution_count": 23,
   "id": "9788f6eb",
   "metadata": {},
   "outputs": [
    {
     "name": "stdout",
     "output_type": "stream",
     "text": [
      "enter the first number : 23\n",
      "enter the second number : 21\n",
      "2321\n"
     ]
    }
   ],
   "source": [
    "# Ex2) take two inputs(numbers) from user and add the numbers\n",
    "num1 = input(\"enter the first number : \")\n",
    "num2 = input(\"enter the second number : \")\n",
    "num3 = num1 + num2 \n",
    "print(num3)"
   ]
  },
  {
   "cell_type": "markdown",
   "id": "7231c3bc",
   "metadata": {},
   "source": [
    "#### remember, whatever value user inputs is converted to string by default"
   ]
  },
  {
   "cell_type": "code",
   "execution_count": 24,
   "id": "f148e1c9",
   "metadata": {},
   "outputs": [
    {
     "name": "stdout",
     "output_type": "stream",
     "text": [
      "type of num1 = <class 'str'> and num2 = <class 'str'> \n"
     ]
    }
   ],
   "source": [
    "# check the type\n",
    "print(\"type of num1 = {} and num2 = {} \".format(type(num1),type(num2)))\n",
    "\n",
    "# convert to int\n",
    "num1 = int(num1)\n",
    "num2 = int(num2)"
   ]
  },
  {
   "cell_type": "code",
   "execution_count": 25,
   "id": "00e568f3",
   "metadata": {},
   "outputs": [
    {
     "name": "stdout",
     "output_type": "stream",
     "text": [
      "44\n"
     ]
    }
   ],
   "source": [
    "# add and print\n",
    "num3 = num1 + num2 \n",
    "print(num3)"
   ]
  },
  {
   "cell_type": "code",
   "execution_count": 26,
   "id": "666de352",
   "metadata": {},
   "outputs": [
    {
     "name": "stdout",
     "output_type": "stream",
     "text": [
      "<class 'int'>\n"
     ]
    }
   ],
   "source": [
    "print(type(num3))"
   ]
  }
 ],
 "metadata": {
  "kernelspec": {
   "display_name": "Python 3 (ipykernel)",
   "language": "python",
   "name": "python3"
  },
  "language_info": {
   "codemirror_mode": {
    "name": "ipython",
    "version": 3
   },
   "file_extension": ".py",
   "mimetype": "text/x-python",
   "name": "python",
   "nbconvert_exporter": "python",
   "pygments_lexer": "ipython3",
   "version": "3.10.1"
  }
 },
 "nbformat": 4,
 "nbformat_minor": 5
}
