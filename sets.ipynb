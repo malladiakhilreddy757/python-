{
 "cells": [
  {
   "cell_type": "markdown",
   "id": "90a12bd4",
   "metadata": {},
   "source": [
    "# Sets\n",
    "\n",
    "In Python sets are written with curly brackets.\n",
    "\n",
    "# Important properties of sets\n",
    "\n",
    "Can store different data types\n",
    "\n",
    "Duplicate values are not allowed\n",
    "\n",
    "Order is not retained\n",
    "\n",
    "Indexing and slicing is not possible"
   ]
  },
  {
   "cell_type": "code",
   "execution_count": 1,
   "id": "193dcaf6",
   "metadata": {},
   "outputs": [],
   "source": [
    "set1 = {2,3,4.4,True,\"python\"}"
   ]
  },
  {
   "cell_type": "code",
   "execution_count": 2,
   "id": "320ff682",
   "metadata": {},
   "outputs": [
    {
     "data": {
      "text/plain": [
       "{2, 3, 4.4, True, 'python'}"
      ]
     },
     "execution_count": 2,
     "metadata": {},
     "output_type": "execute_result"
    }
   ],
   "source": [
    "set1"
   ]
  },
  {
   "cell_type": "code",
   "execution_count": 3,
   "id": "dfdffe50",
   "metadata": {},
   "outputs": [],
   "source": [
    "set2 = {1,2,3,4,1,2,1,1,4,3}"
   ]
  },
  {
   "cell_type": "code",
   "execution_count": 4,
   "id": "9522f5c1",
   "metadata": {},
   "outputs": [
    {
     "data": {
      "text/plain": [
       "{1, 2, 3, 4}"
      ]
     },
     "execution_count": 4,
     "metadata": {},
     "output_type": "execute_result"
    }
   ],
   "source": [
    "set2"
   ]
  },
  {
   "cell_type": "code",
   "execution_count": 5,
   "id": "b46a3e39",
   "metadata": {},
   "outputs": [],
   "source": [
    "set3 = {\"a\",1,\"b\",2,3}"
   ]
  },
  {
   "cell_type": "code",
   "execution_count": 6,
   "id": "f07b3079",
   "metadata": {},
   "outputs": [
    {
     "data": {
      "text/plain": [
       "{1, 2, 3, 'a', 'b'}"
      ]
     },
     "execution_count": 6,
     "metadata": {},
     "output_type": "execute_result"
    }
   ],
   "source": [
    "set3"
   ]
  },
  {
   "cell_type": "code",
   "execution_count": 7,
   "id": "72132c96",
   "metadata": {},
   "outputs": [
    {
     "data": {
      "text/plain": [
       "set"
      ]
     },
     "execution_count": 7,
     "metadata": {},
     "output_type": "execute_result"
    }
   ],
   "source": [
    "# check the type using type()\n",
    "type(set2)"
   ]
  },
  {
   "cell_type": "code",
   "execution_count": 8,
   "id": "b5dd9111",
   "metadata": {},
   "outputs": [
    {
     "data": {
      "text/plain": [
       "5"
      ]
     },
     "execution_count": 8,
     "metadata": {},
     "output_type": "execute_result"
    }
   ],
   "source": [
    "# to check the length of the sets\n",
    "len(set1)"
   ]
  },
  {
   "cell_type": "markdown",
   "id": "89229a9b",
   "metadata": {},
   "source": [
    "# Indexing and Slicing is not allowed in sets"
   ]
  },
  {
   "cell_type": "code",
   "execution_count": 9,
   "id": "e5def202",
   "metadata": {},
   "outputs": [
    {
     "ename": "TypeError",
     "evalue": "'set' object is not subscriptable",
     "output_type": "error",
     "traceback": [
      "\u001b[1;31m---------------------------------------------------------------------------\u001b[0m",
      "\u001b[1;31mTypeError\u001b[0m                                 Traceback (most recent call last)",
      "\u001b[1;32m~\\AppData\\Local\\Temp/ipykernel_8140/3400640043.py\u001b[0m in \u001b[0;36m<module>\u001b[1;34m\u001b[0m\n\u001b[0;32m      1\u001b[0m \u001b[1;31m# try to index\u001b[0m\u001b[1;33m\u001b[0m\u001b[1;33m\u001b[0m\u001b[0m\n\u001b[1;32m----> 2\u001b[1;33m \u001b[0mset1\u001b[0m\u001b[1;33m[\u001b[0m\u001b[1;36m0\u001b[0m\u001b[1;33m]\u001b[0m\u001b[1;33m\u001b[0m\u001b[1;33m\u001b[0m\u001b[0m\n\u001b[0m",
      "\u001b[1;31mTypeError\u001b[0m: 'set' object is not subscriptable"
     ]
    }
   ],
   "source": [
    "# try to index\n",
    "set1[0]"
   ]
  },
  {
   "cell_type": "markdown",
   "id": "a61f3dd5",
   "metadata": {},
   "source": [
    "# empty set"
   ]
  },
  {
   "cell_type": "code",
   "execution_count": 11,
   "id": "1fc2ebd7",
   "metadata": {},
   "outputs": [
    {
     "data": {
      "text/plain": [
       "{}"
      ]
     },
     "execution_count": 11,
     "metadata": {},
     "output_type": "execute_result"
    }
   ],
   "source": [
    "set4 = {}\n",
    "set4"
   ]
  },
  {
   "cell_type": "code",
   "execution_count": 12,
   "id": "d4f6184a",
   "metadata": {},
   "outputs": [
    {
     "data": {
      "text/plain": [
       "dict"
      ]
     },
     "execution_count": 12,
     "metadata": {},
     "output_type": "execute_result"
    }
   ],
   "source": [
    "type(set4)"
   ]
  },
  {
   "cell_type": "code",
   "execution_count": 13,
   "id": "111e6359",
   "metadata": {},
   "outputs": [
    {
     "data": {
      "text/plain": [
       "set"
      ]
     },
     "execution_count": 13,
     "metadata": {},
     "output_type": "execute_result"
    }
   ],
   "source": [
    "# to create empty sets\n",
    "set4 = set()\n",
    "type(set4)"
   ]
  },
  {
   "cell_type": "markdown",
   "id": "a5fbb6ca",
   "metadata": {},
   "source": [
    "# Mutablility\n",
    "\n",
    "Once set is created you can add and remove the elements from the set, but you cannot modify the existing elements in a set\n",
    "\n",
    "# In built methods.\n",
    "   * To add the elements\n",
    "   1) add(item)\n",
    "   adds single item to the set"
   ]
  },
  {
   "cell_type": "code",
   "execution_count": 14,
   "id": "dfd1e442",
   "metadata": {},
   "outputs": [
    {
     "name": "stdout",
     "output_type": "stream",
     "text": [
      "{1, 2, 3, 4, 6}\n"
     ]
    }
   ],
   "source": [
    "set1 = {1,2,3,4,6}\n",
    "# set1\n",
    "set1.add(6)\n",
    "print(set1)"
   ]
  },
  {
   "cell_type": "code",
   "execution_count": 15,
   "id": "ea135ae7",
   "metadata": {},
   "outputs": [
    {
     "data": {
      "text/plain": [
       "{1, 2, 3, 4, 6, 7}"
      ]
     },
     "execution_count": 15,
     "metadata": {},
     "output_type": "execute_result"
    }
   ],
   "source": [
    "set1.add(7)\n",
    "set1"
   ]
  },
  {
   "cell_type": "markdown",
   "id": "b15946de",
   "metadata": {},
   "source": [
    "# 2) .update(list)\n",
    "\n",
    "  this method is used to add more than one items. All the items should be passed in the form of lists"
   ]
  },
  {
   "cell_type": "code",
   "execution_count": 16,
   "id": "b8bda74e",
   "metadata": {},
   "outputs": [],
   "source": [
    "set1 = {1,2,3,4,5}\n",
    "set1.update([6,7,8]) # pass list of values to set1"
   ]
  },
  {
   "cell_type": "code",
   "execution_count": null,
   "id": "809c12bb",
   "metadata": {},
   "outputs": [],
   "source": []
  },
  {
   "cell_type": "markdown",
   "id": "5220eee3",
   "metadata": {},
   "source": [
    "# 3) copy()\n",
    "to copy a set"
   ]
  },
  {
   "cell_type": "code",
   "execution_count": 17,
   "id": "ecc92cb8",
   "metadata": {},
   "outputs": [
    {
     "data": {
      "text/plain": [
       "{1, 2, 3, 4, 5, 6, 7, 8}"
      ]
     },
     "execution_count": 17,
     "metadata": {},
     "output_type": "execute_result"
    }
   ],
   "source": [
    "set2 = set1.copy()\n",
    "set2"
   ]
  },
  {
   "cell_type": "markdown",
   "id": "3ce24085",
   "metadata": {},
   "source": [
    "# * To remove the items\n",
    "#### 4) remove(item)\n",
    "       removes the specified item from the set. If specified item is not present it will raise error"
   ]
  },
  {
   "cell_type": "code",
   "execution_count": 26,
   "id": "9f3b3232",
   "metadata": {},
   "outputs": [
    {
     "data": {
      "text/plain": [
       "{3, 4, 5, 6, 7, 8}"
      ]
     },
     "execution_count": 26,
     "metadata": {},
     "output_type": "execute_result"
    }
   ],
   "source": [
    "set1"
   ]
  },
  {
   "cell_type": "code",
   "execution_count": 27,
   "id": "28ef9e2c",
   "metadata": {},
   "outputs": [],
   "source": [
    "set1.remove(3)"
   ]
  },
  {
   "cell_type": "code",
   "execution_count": 28,
   "id": "43a19449",
   "metadata": {},
   "outputs": [
    {
     "data": {
      "text/plain": [
       "{4, 5, 6, 7, 8}"
      ]
     },
     "execution_count": 28,
     "metadata": {},
     "output_type": "execute_result"
    }
   ],
   "source": [
    "set1"
   ]
  },
  {
   "cell_type": "code",
   "execution_count": 29,
   "id": "0229af52",
   "metadata": {},
   "outputs": [],
   "source": [
    "set1.remove(4)"
   ]
  },
  {
   "cell_type": "code",
   "execution_count": 30,
   "id": "5d52b9f1",
   "metadata": {},
   "outputs": [
    {
     "data": {
      "text/plain": [
       "{5, 6, 7, 8}"
      ]
     },
     "execution_count": 30,
     "metadata": {},
     "output_type": "execute_result"
    }
   ],
   "source": [
    "set1"
   ]
  },
  {
   "cell_type": "code",
   "execution_count": 31,
   "id": "7f96a434",
   "metadata": {},
   "outputs": [
    {
     "ename": "KeyError",
     "evalue": "4",
     "output_type": "error",
     "traceback": [
      "\u001b[1;31m---------------------------------------------------------------------------\u001b[0m",
      "\u001b[1;31mKeyError\u001b[0m                                  Traceback (most recent call last)",
      "\u001b[1;32m~\\AppData\\Local\\Temp/ipykernel_8140/450229268.py\u001b[0m in \u001b[0;36m<module>\u001b[1;34m\u001b[0m\n\u001b[1;32m----> 1\u001b[1;33m \u001b[0mset1\u001b[0m\u001b[1;33m.\u001b[0m\u001b[0mremove\u001b[0m\u001b[1;33m(\u001b[0m\u001b[1;36m4\u001b[0m\u001b[1;33m)\u001b[0m\u001b[1;33m\u001b[0m\u001b[1;33m\u001b[0m\u001b[0m\n\u001b[0m",
      "\u001b[1;31mKeyError\u001b[0m: 4"
     ]
    }
   ],
   "source": [
    "set1.remove(4)# #Gives error because 4 is not present"
   ]
  },
  {
   "cell_type": "markdown",
   "id": "da3730cd",
   "metadata": {},
   "source": [
    "# 5) discard(item)\n",
    "  removes the specified item from the set.But if the item is not present then it will not raise error"
   ]
  },
  {
   "cell_type": "code",
   "execution_count": 32,
   "id": "eec82791",
   "metadata": {},
   "outputs": [
    {
     "data": {
      "text/plain": [
       "{1, 2, 3, 4, 5, 6}"
      ]
     },
     "execution_count": 32,
     "metadata": {},
     "output_type": "execute_result"
    }
   ],
   "source": [
    "set1 = {1,2,3,4,5,6}\n",
    "set1"
   ]
  },
  {
   "cell_type": "code",
   "execution_count": 33,
   "id": "99984adb",
   "metadata": {},
   "outputs": [
    {
     "data": {
      "text/plain": [
       "{2, 3, 4, 5, 6}"
      ]
     },
     "execution_count": 33,
     "metadata": {},
     "output_type": "execute_result"
    }
   ],
   "source": [
    "set1.discard(1)\n",
    "set1"
   ]
  },
  {
   "cell_type": "code",
   "execution_count": 34,
   "id": "7619d16e",
   "metadata": {},
   "outputs": [
    {
     "data": {
      "text/plain": [
       "{3, 4, 5, 6}"
      ]
     },
     "execution_count": 34,
     "metadata": {},
     "output_type": "execute_result"
    }
   ],
   "source": [
    "set1.discard(2)\n",
    "set1"
   ]
  },
  {
   "cell_type": "code",
   "execution_count": 35,
   "id": "7c968afe",
   "metadata": {},
   "outputs": [
    {
     "data": {
      "text/plain": [
       "{3, 4, 5, 6}"
      ]
     },
     "execution_count": 35,
     "metadata": {},
     "output_type": "execute_result"
    }
   ],
   "source": [
    "# will not give the error if 2 is not there\n",
    "set1.discard(2)\n",
    "set1\n"
   ]
  },
  {
   "cell_type": "markdown",
   "id": "5e9051d8",
   "metadata": {},
   "source": [
    "# 6) pop()\n",
    "  Sets are unordered, so when using the pop() method, you will not know which item that gets removed."
   ]
  },
  {
   "cell_type": "code",
   "execution_count": 36,
   "id": "1b5e1611",
   "metadata": {},
   "outputs": [
    {
     "data": {
      "text/plain": [
       "1"
      ]
     },
     "execution_count": 36,
     "metadata": {},
     "output_type": "execute_result"
    }
   ],
   "source": [
    "set1 = {\"a\",1,\"B\",2,3,\"c\",4}\n",
    "set1.pop()"
   ]
  },
  {
   "cell_type": "code",
   "execution_count": 37,
   "id": "ca8e02d4",
   "metadata": {},
   "outputs": [
    {
     "data": {
      "text/plain": [
       "2"
      ]
     },
     "execution_count": 37,
     "metadata": {},
     "output_type": "execute_result"
    }
   ],
   "source": [
    "set1.pop()"
   ]
  },
  {
   "cell_type": "markdown",
   "id": "4ef5f340",
   "metadata": {},
   "source": [
    "# 7) clear()\n",
    "  empties the set"
   ]
  },
  {
   "cell_type": "code",
   "execution_count": 41,
   "id": "c1f0e08d",
   "metadata": {},
   "outputs": [
    {
     "data": {
      "text/plain": [
       "set()"
      ]
     },
     "execution_count": 41,
     "metadata": {},
     "output_type": "execute_result"
    }
   ],
   "source": [
    "set1"
   ]
  },
  {
   "cell_type": "code",
   "execution_count": 40,
   "id": "a5f5cd25",
   "metadata": {},
   "outputs": [
    {
     "data": {
      "text/plain": [
       "set()"
      ]
     },
     "execution_count": 40,
     "metadata": {},
     "output_type": "execute_result"
    }
   ],
   "source": [
    "set1.clear()\n",
    "set1"
   ]
  },
  {
   "cell_type": "markdown",
   "id": "c53023f4",
   "metadata": {},
   "source": [
    "#  Other inbuilt methods\n",
    "\n",
    "#### 8) union()\n",
    "\n",
    "      returns a new set with all the elements from set1 and set2"
   ]
  },
  {
   "cell_type": "code",
   "execution_count": 42,
   "id": "c08fd0a3",
   "metadata": {},
   "outputs": [
    {
     "name": "stdout",
     "output_type": "stream",
     "text": [
      "{1, 2, 3, 4, 5}\n",
      "{4, 5, 6, 7, 8}\n"
     ]
    }
   ],
   "source": [
    "set1 = {1,2,3,4,5}\n",
    "set2 = {4,5,6,7,8}\n",
    "print(set1)\n",
    "print(set2)"
   ]
  },
  {
   "cell_type": "code",
   "execution_count": 43,
   "id": "50ff2547",
   "metadata": {},
   "outputs": [
    {
     "data": {
      "text/plain": [
       "{1, 2, 3, 4, 5, 6, 7, 8}"
      ]
     },
     "execution_count": 43,
     "metadata": {},
     "output_type": "execute_result"
    }
   ],
   "source": [
    "set3 = set1.union(set2)\n",
    "set3"
   ]
  },
  {
   "cell_type": "markdown",
   "id": "b4bf04dc",
   "metadata": {},
   "source": [
    "# 9) intersection()\n",
    "returns the common element from both the sets"
   ]
  },
  {
   "cell_type": "code",
   "execution_count": 44,
   "id": "455433ae",
   "metadata": {},
   "outputs": [
    {
     "data": {
      "text/plain": [
       "{1, 2, 3, 4, 5}"
      ]
     },
     "execution_count": 44,
     "metadata": {},
     "output_type": "execute_result"
    }
   ],
   "source": [
    "set1"
   ]
  },
  {
   "cell_type": "code",
   "execution_count": 45,
   "id": "6b125792",
   "metadata": {},
   "outputs": [
    {
     "data": {
      "text/plain": [
       "{4, 5, 6, 7, 8}"
      ]
     },
     "execution_count": 45,
     "metadata": {},
     "output_type": "execute_result"
    }
   ],
   "source": [
    "set2"
   ]
  },
  {
   "cell_type": "code",
   "execution_count": 46,
   "id": "1f3a3a21",
   "metadata": {},
   "outputs": [
    {
     "data": {
      "text/plain": [
       "{4, 5}"
      ]
     },
     "execution_count": 46,
     "metadata": {},
     "output_type": "execute_result"
    }
   ],
   "source": [
    "set3 = set1.intersection(set2)\n",
    "set3"
   ]
  },
  {
   "cell_type": "markdown",
   "id": "b9c6f73d",
   "metadata": {},
   "source": [
    "#### Python has a set of built-in methods that you can use on sets.\n",
    "\n",
    "# Method\tDescription\n",
    " . add()\t   Adds an element to the set\n",
    " \n",
    " . clear()   \tRemoves all the elements from the set\n",
    " \n",
    " . copy()\t   Returns a copy of the set\n",
    " \n",
    " . difference()  \tReturns a set containing the difference between two or more sets\n",
    " \n",
    " . difference_update()\t  Removes the items in this set that are also included in another, specified                              set\n",
    " . discard()\tRemove the specified item\n",
    " \n",
    " . intersection()\tReturns a set, that is the intersection of two or more sets\n",
    " \n",
    " . intersection_update()\tRemoves the items in this set that are not present in other, specified                                  set(s)\n",
    " . isdisjoint()\tReturns whether two sets have a intersection or not\n",
    " \n",
    " . issubset()\tReturns whether another set contains this set or not\n",
    " \n",
    " . issuperset()\tReturns whether this set contains another set or not\n",
    "\n",
    " . pop()\tRemoves an element from the set\n",
    "\n",
    " . remove()\tRemoves the specified element\n",
    "\n",
    " . symmetric_difference()\tReturns a set with the symmetric differences of two sets\n",
    "\n",
    " . symmetric_difference_update()\tinserts the symmetric differences from this set and another\n",
    "                               union()\tReturn a set containing the union of sets\n",
    "\n",
    " . update()\tUpdate the set with another set, or any other iterable\n"
   ]
  },
  {
   "cell_type": "code",
   "execution_count": null,
   "id": "c6ecaa81",
   "metadata": {},
   "outputs": [],
   "source": []
  }
 ],
 "metadata": {
  "kernelspec": {
   "display_name": "Python 3 (ipykernel)",
   "language": "python",
   "name": "python3"
  },
  "language_info": {
   "codemirror_mode": {
    "name": "ipython",
    "version": 3
   },
   "file_extension": ".py",
   "mimetype": "text/x-python",
   "name": "python",
   "nbconvert_exporter": "python",
   "pygments_lexer": "ipython3",
   "version": "3.9.7"
  }
 },
 "nbformat": 4,
 "nbformat_minor": 5
}
