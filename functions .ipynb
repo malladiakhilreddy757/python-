{
 "cells": [
  {
   "cell_type": "markdown",
   "id": "db3f1725",
   "metadata": {},
   "source": [
    "# FUNCTIONS\n",
    "#### Functions are the block of reusable code that will execute only when it is called"
   ]
  },
  {
   "cell_type": "code",
   "execution_count": null,
   "id": "685ccb95",
   "metadata": {},
   "outputs": [],
   "source": [
    "# syntax\n",
    "\"\"\"\n",
    "def function_name():\n",
    "    statement 1\n",
    "    statement 2\n",
    "    ...\n",
    "    ...\n",
    "    ...\n",
    "    statement n\n",
    "\"\"\""
   ]
  },
  {
   "cell_type": "code",
   "execution_count": 1,
   "id": "82e03d26",
   "metadata": {},
   "outputs": [],
   "source": [
    "# defining the function\n",
    "def my_func():\n",
    "    print(\"hello\")\n",
    "    print(\"I am a function\")\n",
    "    print(\"I will execute only when i get called\")\n",
    "    "
   ]
  },
  {
   "cell_type": "code",
   "execution_count": 2,
   "id": "ba9aef22",
   "metadata": {},
   "outputs": [
    {
     "name": "stdout",
     "output_type": "stream",
     "text": [
      "hello\n",
      "I am a function\n",
      "I will execute only when i get called\n"
     ]
    }
   ],
   "source": [
    "my_func() # calling the function "
   ]
  },
  {
   "cell_type": "code",
   "execution_count": 3,
   "id": "c6827cdd",
   "metadata": {},
   "outputs": [],
   "source": [
    "#Ex2) Adding two numbers\n",
    "def add():\n",
    "    x = 10\n",
    "    y = 20\n",
    "    z = x + y\n",
    "    print(z)"
   ]
  },
  {
   "cell_type": "code",
   "execution_count": 4,
   "id": "61410c29",
   "metadata": {},
   "outputs": [
    {
     "name": "stdout",
     "output_type": "stream",
     "text": [
      "30\n"
     ]
    }
   ],
   "source": [
    "add()"
   ]
  },
  {
   "cell_type": "markdown",
   "id": "298243b4",
   "metadata": {},
   "source": [
    "# Passing parameters/arguments to function\n"
   ]
  },
  {
   "cell_type": "code",
   "execution_count": 5,
   "id": "8be13335",
   "metadata": {},
   "outputs": [],
   "source": [
    "#Ex1)you can pass numbers\n",
    "def add(x,y):\n",
    "    z = x + y\n",
    "    print(z)"
   ]
  },
  {
   "cell_type": "code",
   "execution_count": 6,
   "id": "ff3dc4c5",
   "metadata": {},
   "outputs": [
    {
     "name": "stdout",
     "output_type": "stream",
     "text": [
      "60\n"
     ]
    }
   ],
   "source": [
    "add(20,40)"
   ]
  },
  {
   "cell_type": "code",
   "execution_count": 7,
   "id": "9127bce3",
   "metadata": {},
   "outputs": [],
   "source": [
    "#Ex2) you can pass strings\n",
    "def func(name):\n",
    "    print(\"Hello {}\".format(name))"
   ]
  },
  {
   "cell_type": "code",
   "execution_count": 8,
   "id": "c04d6698",
   "metadata": {},
   "outputs": [
    {
     "name": "stdout",
     "output_type": "stream",
     "text": [
      "Hello akhilreddy\n"
     ]
    }
   ],
   "source": [
    "func(\"akhilreddy\")"
   ]
  },
  {
   "cell_type": "code",
   "execution_count": 9,
   "id": "a1e412d0",
   "metadata": {},
   "outputs": [],
   "source": [
    "# Ex3) you can pass lists\n",
    "def func(list1):\n",
    "    for i in list1:\n",
    "        print(i)"
   ]
  },
  {
   "cell_type": "code",
   "execution_count": 10,
   "id": "b404f31a",
   "metadata": {},
   "outputs": [
    {
     "name": "stdout",
     "output_type": "stream",
     "text": [
      "1\n",
      "2\n",
      "3\n",
      "4\n",
      "5\n",
      "6\n",
      "7\n",
      "8\n"
     ]
    }
   ],
   "source": [
    "func([1,2,3,4,5,6,7,8])"
   ]
  },
  {
   "cell_type": "markdown",
   "id": "4f8032ac",
   "metadata": {},
   "source": [
    "# return keyword\n",
    "#### return keyword can be used to return values from a function\n",
    "     it can be used to end the execution of a function\n",
    "     statements below return keyword will not get executed"
   ]
  },
  {
   "cell_type": "code",
   "execution_count": 11,
   "id": "edd04391",
   "metadata": {},
   "outputs": [],
   "source": [
    "# Ex1) returning sum\n",
    "def add(x,y):\n",
    "    z = x + y\n",
    "    return z\n",
    "    print(z) #will not be executed"
   ]
  },
  {
   "cell_type": "code",
   "execution_count": 13,
   "id": "4a2c40d4",
   "metadata": {},
   "outputs": [
    {
     "data": {
      "text/plain": [
       "40"
      ]
     },
     "execution_count": 13,
     "metadata": {},
     "output_type": "execute_result"
    }
   ],
   "source": [
    "my_sum = add(10,20)\n",
    "my_sum + 10"
   ]
  },
  {
   "cell_type": "code",
   "execution_count": 15,
   "id": "3c9c83ad",
   "metadata": {},
   "outputs": [],
   "source": [
    "# Ex2) returning product\n",
    "def product(x,y):\n",
    "    z = x * y\n",
    "    return z\n",
    "    print(z) #will not execute"
   ]
  },
  {
   "cell_type": "code",
   "execution_count": 16,
   "id": "d283ebca",
   "metadata": {},
   "outputs": [
    {
     "data": {
      "text/plain": [
       "50"
      ]
     },
     "execution_count": 16,
     "metadata": {},
     "output_type": "execute_result"
    }
   ],
   "source": [
    "my_number = product(10,5)\n",
    "my_number"
   ]
  },
  {
   "cell_type": "markdown",
   "id": "43f3c5d2",
   "metadata": {},
   "source": [
    "# default values\n",
    "#### to initialize the parameters with default values in order to avoid the errors"
   ]
  },
  {
   "cell_type": "code",
   "execution_count": 21,
   "id": "7e33787c",
   "metadata": {},
   "outputs": [],
   "source": [
    "#Without default values\n",
    "def add(x,y,z):\n",
    "    my_num = x + y + z\n",
    "    print(my_num)"
   ]
  },
  {
   "cell_type": "code",
   "execution_count": 22,
   "id": "2e08602f",
   "metadata": {},
   "outputs": [
    {
     "name": "stdout",
     "output_type": "stream",
     "text": [
      "60\n"
     ]
    }
   ],
   "source": [
    "# when value is passed\n",
    "add(10,20,30)"
   ]
  },
  {
   "cell_type": "code",
   "execution_count": 23,
   "id": "4d339ddc",
   "metadata": {},
   "outputs": [
    {
     "ename": "TypeError",
     "evalue": "add() missing 1 required positional argument: 'z'",
     "output_type": "error",
     "traceback": [
      "\u001b[1;31m---------------------------------------------------------------------------\u001b[0m",
      "\u001b[1;31mTypeError\u001b[0m                                 Traceback (most recent call last)",
      "\u001b[1;32m~\\AppData\\Local\\Temp/ipykernel_11220/1818245076.py\u001b[0m in \u001b[0;36m<module>\u001b[1;34m\u001b[0m\n\u001b[0;32m      1\u001b[0m \u001b[1;31m# when value is not passed\u001b[0m\u001b[1;33m\u001b[0m\u001b[1;33m\u001b[0m\u001b[0m\n\u001b[1;32m----> 2\u001b[1;33m \u001b[0madd\u001b[0m\u001b[1;33m(\u001b[0m\u001b[1;36m10\u001b[0m\u001b[1;33m,\u001b[0m\u001b[1;36m20\u001b[0m\u001b[1;33m)\u001b[0m \u001b[1;31m#ERROR\u001b[0m\u001b[1;33m\u001b[0m\u001b[1;33m\u001b[0m\u001b[0m\n\u001b[0m",
      "\u001b[1;31mTypeError\u001b[0m: add() missing 1 required positional argument: 'z'"
     ]
    }
   ],
   "source": [
    "# when value is not passed\n",
    "add(10,20) #ERROR"
   ]
  },
  {
   "cell_type": "code",
   "execution_count": 24,
   "id": "cc073160",
   "metadata": {},
   "outputs": [],
   "source": [
    "# With default values\n",
    "\n",
    "def add(x,y,z = 0): #z is initilized to 0 (default)\n",
    "    my_num = x + y + z\n",
    "    print(my_num)"
   ]
  },
  {
   "cell_type": "code",
   "execution_count": 25,
   "id": "3d75dbfb",
   "metadata": {},
   "outputs": [
    {
     "name": "stdout",
     "output_type": "stream",
     "text": [
      "30\n"
     ]
    }
   ],
   "source": [
    "add(10,20)"
   ]
  },
  {
   "cell_type": "code",
   "execution_count": 26,
   "id": "7338ee64",
   "metadata": {},
   "outputs": [
    {
     "name": "stdout",
     "output_type": "stream",
     "text": [
      "60\n"
     ]
    }
   ],
   "source": [
    "#when value is passed\n",
    "add(10,20,30)"
   ]
  },
  {
   "cell_type": "markdown",
   "id": "e813916c",
   "metadata": {},
   "source": [
    "# A function can call any other function"
   ]
  },
  {
   "cell_type": "code",
   "execution_count": 27,
   "id": "7c751f9c",
   "metadata": {},
   "outputs": [],
   "source": [
    "def func1():\n",
    "    print(\"func1\")\n",
    "\n",
    "def func2():\n",
    "    print(\"func2\")\n",
    "    func1()\n",
    "    \n",
    "def func3():\n",
    "    print(\"func3\")\n",
    "    func2()"
   ]
  },
  {
   "cell_type": "code",
   "execution_count": 28,
   "id": "7e2ce6c0",
   "metadata": {},
   "outputs": [
    {
     "name": "stdout",
     "output_type": "stream",
     "text": [
      "func3\n",
      "func2\n",
      "func1\n"
     ]
    }
   ],
   "source": [
    "func3()"
   ]
  },
  {
   "cell_type": "markdown",
   "id": "d6555964",
   "metadata": {},
   "source": [
    "# Recursion or Recursive Function :\n",
    "#### A function calling itself\n",
    "#### Possibility of infinite execution. Always handle this scenario"
   ]
  },
  {
   "cell_type": "code",
   "execution_count": 29,
   "id": "8779f71c",
   "metadata": {},
   "outputs": [],
   "source": [
    "# Printing Hello for 5 times using recursion\n",
    "def my_func(num):\n",
    "    num = num + 1\n",
    "    if(num>5):\n",
    "        return\n",
    "    else:\n",
    "        print(\"Hello\")\n",
    "        my_func(num)"
   ]
  },
  {
   "cell_type": "code",
   "execution_count": 30,
   "id": "b55e092e",
   "metadata": {},
   "outputs": [
    {
     "name": "stdout",
     "output_type": "stream",
     "text": [
      "Hello\n",
      "Hello\n",
      "Hello\n",
      "Hello\n",
      "Hello\n"
     ]
    }
   ],
   "source": [
    "my_func(0)"
   ]
  },
  {
   "cell_type": "code",
   "execution_count": null,
   "id": "b9c962b7",
   "metadata": {},
   "outputs": [],
   "source": []
  }
 ],
 "metadata": {
  "kernelspec": {
   "display_name": "Python 3 (ipykernel)",
   "language": "python",
   "name": "python3"
  },
  "language_info": {
   "codemirror_mode": {
    "name": "ipython",
    "version": 3
   },
   "file_extension": ".py",
   "mimetype": "text/x-python",
   "name": "python",
   "nbconvert_exporter": "python",
   "pygments_lexer": "ipython3",
   "version": "3.9.7"
  }
 },
 "nbformat": 4,
 "nbformat_minor": 5
}
